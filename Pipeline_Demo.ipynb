{
 "cells": [
  {
   "cell_type": "markdown",
   "id": "a28cefad-7aa3-471f-bf54-27f225286b28",
   "metadata": {},
   "source": [
    "# Demo I: Dataset Module\n",
    "\n",
    "- Time for complete conversion of 2months of data on exclusive GPU: ~1hr\n",
    "\n",
    "dates:\n",
    "  start: 2020-12-31T00:00\n",
    "  end: 2021-02-01T23:00\n",
    "  frequency: 6h\n",
    "\n",
    "input:\n",
    "  xarray-zarr:\n",
    "    url: \"gcp_era5_subset.zarr\"\n",
    "    param: [2m_temperature,\n",
    "    10m_u_component_of_wind,\n",
    "    geopotential,\n",
    "    10m_v_component_of_wind,\n",
    "    surface_pressure]\n"
   ]
  },
  {
   "cell_type": "markdown",
   "id": "78a0ef74-c45c-4e52-b03a-16f5e0dea759",
   "metadata": {},
   "source": [
    "### Import Datasets Module's Create method"
   ]
  },
  {
   "cell_type": "code",
   "execution_count": null,
   "id": "636caa86-918c-40d7-b208-0130d5af08f6",
   "metadata": {
    "tags": []
   },
   "outputs": [],
   "source": [
    "from anemoi.datasets.commands.create import *\n",
    "import os, argparse\n",
    "main_ds_config_fldrname = \"datasets_configs\""
   ]
  },
  {
   "cell_type": "markdown",
   "id": "81eb2dd4-de13-4573-994b-77fd6780183c",
   "metadata": {},
   "source": [
    "### Convert Zarr to an Anemoi-Formatted Zarr"
   ]
  },
  {
   "cell_type": "code",
   "execution_count": null,
   "id": "a16e76b4-b2a2-440a-9825-0b36ec0feb1f",
   "metadata": {
    "tags": []
   },
   "outputs": [],
   "source": [
    "# ERA5 zarr sample from GCP on local converted to anemoi-formatted zarr\n",
    "ds_config_fn = \"local-gcp-sample-zarr.yaml\"\n",
    "save2fn = \"anemoi-local-gcp-sample-zarr.zarr\"\n",
    "\n",
    "args = argparse.Namespace(config=f\"{os.getcwd()}/{main_ds_config_fldrname}/{ds_config_fn}\",\n",
    "                          path=save2fn,\n",
    "                          overwrite=True,\n",
    "                          test='',\n",
    "                          threads=int(),\n",
    "                          processes=int(),\n",
    "                          command='')\n",
    "Create().run(args)"
   ]
  },
  {
   "cell_type": "code",
   "execution_count": null,
   "id": "dcbd0335-7c6f-407b-a138-d41b859605ab",
   "metadata": {},
   "outputs": [],
   "source": [
    "# Zarr from S3 converted to anemoi-formatted zarr\n",
    "ds_config_fn = \"s3-httpsurl-sample-zarr.yaml\"\n",
    "save2fn = \"anemoi-s3-httpsurl-sample-zarr.zarr\"\n",
    "\n",
    "args = argparse.Namespace(config=f\"{os.getcwd()}/{main_ds_config_fldrname}/{ds_config_fn}\",\n",
    "                          path=save2fn,\n",
    "                          overwrite=True,\n",
    "                          test='',\n",
    "                          threads=int(),\n",
    "                          processes=int(),\n",
    "                          command='')\n",
    "Create().run(args)"
   ]
  },
  {
   "cell_type": "code",
   "execution_count": null,
   "id": "57933201-b050-4ec4-ad75-03cd258e3f54",
   "metadata": {
    "tags": []
   },
   "outputs": [],
   "source": [
    "# Zarr sample from GCP converted to anemoi-formatted zarr\n",
    "ds_config_fn = \"gcp-gsurl-sample-zarr.yaml\"\n",
    "save2fn = \"anemoi-gcp-gsurl-sample-zarr.zarr\"\n",
    "\n",
    "args = argparse.Namespace(config=f\"{os.getcwd()}/{main_ds_config_fldrname}/{ds_config_fn}\",\n",
    "                          path=save2fn,\n",
    "                          overwrite=True,\n",
    "                          test='',\n",
    "                          threads=int(),\n",
    "                          processes=int(),\n",
    "                          command='')\n",
    "Create().run(args)"
   ]
  },
  {
   "cell_type": "markdown",
   "id": "33a3b5e0-c043-4878-aba0-bf4ef02d25e8",
   "metadata": {},
   "source": [
    "# Demo II: Graph Module"
   ]
  },
  {
   "cell_type": "markdown",
   "id": "59b1fb42-4039-4ea3-b7d1-e62a8ff9be27",
   "metadata": {},
   "source": [
    "### Import Graphs Module's Create & Inspect methods"
   ]
  },
  {
   "cell_type": "code",
   "execution_count": null,
   "id": "7fda1f1f-6b92-4d92-8c5e-b8b72bcaf091",
   "metadata": {},
   "outputs": [],
   "source": [
    "from anemoi.graphs.commands.create import *\n",
    "from anemoi.graphs.commands.inspect import *\n",
    "import os, argparse\n",
    "os.environ[\"HYDRA_FULL_ERROR\"] = \"1\"\n",
    "main_graphs_config_fldrname = \"graphs_configs\"\n"
   ]
  },
  {
   "cell_type": "markdown",
   "id": "fd51ab84-508d-41c7-9f15-564d52408bc6",
   "metadata": {},
   "source": [
    "### Generate Graph of a Zarr"
   ]
  },
  {
   "cell_type": "code",
   "execution_count": null,
   "id": "1a35b67b-3acd-4663-b7bb-078dcfeb0b87",
   "metadata": {
    "tags": []
   },
   "outputs": [],
   "source": [
    "# Generate graph of gcp zarr sample\n",
    "graphs_config_fn = \"local_gcp_encoder_processor_decoder_connect_bw_hiddens_hex_recipe.yaml\"\n",
    "save2fn = \"anemoi-local-gcp-sample-zarr-graph.pt\"\n",
    "\n",
    "args = argparse.Namespace(config=f\"{os.getcwd()}/{main_graphs_config_fldrname}/{graphs_config_fn}\",\n",
    "                          save_path=save2fn,\n",
    "                          overwrite=False,\n",
    "                          description='')\n",
    "Create().run(args)"
   ]
  },
  {
   "cell_type": "code",
   "execution_count": null,
   "id": "da3c1664-37e0-48a8-bed9-9c7789343b67",
   "metadata": {
    "tags": []
   },
   "outputs": [],
   "source": [
    "# Generate graph of gcp zarr sample\n",
    "graphs_config_fn = \"local_gcp_encoder_processor_decoder_connect_bw_hiddens_tri_recipe.yaml\"\n",
    "save2fn = \"anemoi-local-gcp-sample-zarr-graph.pt\"\n",
    "\n",
    "args = argparse.Namespace(config=f\"{os.getcwd()}/{main_graphs_config_fldrname}/{graphs_config_fn}\",\n",
    "                          save_path=save2fn,\n",
    "                          overwrite=False,\n",
    "                          description='')\n",
    "Create().run(args)"
   ]
  },
  {
   "cell_type": "code",
   "execution_count": null,
   "id": "50156b9e-4a81-428b-87e0-6ed4332e7438",
   "metadata": {
    "tags": []
   },
   "outputs": [],
   "source": [
    "# Generate graph of gcp zarr sample\n",
    "graphs_config_fn = \"local_gcp_encoder_processor_decoder_connect_bw_hiddens_recipe.yaml\"\n",
    "save2fn = \"anemoi-local-gcp-sample-zarr-graph.pt\"\n",
    "\n",
    "args = argparse.Namespace(config=f\"{os.getcwd()}/{main_graphs_config_fldrname}/{graphs_config_fn}\",\n",
    "                          save_path=save2fn,\n",
    "                          overwrite=False,\n",
    "                          description='')\n",
    "Create().run(args)"
   ]
  },
  {
   "cell_type": "code",
   "execution_count": null,
   "id": "7760d1c4-f35e-44eb-ab72-4b6cfd0c2c3d",
   "metadata": {
    "tags": []
   },
   "outputs": [],
   "source": [
    "# Generate graph of s3 zarr\n",
    "graphs_config_fn = \"s3_encoder_processor_decoder_connect_bw_hiddens_recipe.yaml\"\n",
    "save2fn =\"anemoi-s3-httpsurl-sample-zarr-graph.pt\"\n",
    "\n",
    "args = argparse.Namespace(config=f\"{os.getcwd()}/{main_graphs_config_fldrname}/{graphs_config_fn}\",\n",
    "                          save_path=save2fn,\n",
    "                          overwrite=False,\n",
    "                          description='')\n",
    "Create().run(args)"
   ]
  },
  {
   "cell_type": "markdown",
   "id": "f7c8dcd8-043e-4b01-bcad-9fbc0ad723c7",
   "metadata": {},
   "source": [
    "### Inspect Graph"
   ]
  },
  {
   "cell_type": "code",
   "execution_count": null,
   "id": "0c885769-97e9-4b2b-8e03-84dabe08a6a8",
   "metadata": {
    "tags": []
   },
   "outputs": [],
   "source": [
    "# Inspect generated graph of gcp zarr sample\n",
    "saved_graph_fn = \"anemoi-local-gcp-sample-zarr-graph.pt\"\n",
    "\n",
    "args = argparse.Namespace(path=saved_graph_fn,\n",
    "                          output_path=\"anemoi-local-gcp-sample-zarr-graph-output-plots\",\n",
    "                          description='')\n",
    "Inspect().run(args)\n"
   ]
  },
  {
   "cell_type": "code",
   "execution_count": null,
   "id": "e2cbb98c-5fa5-431e-a217-9ef906650ee5",
   "metadata": {
    "tags": []
   },
   "outputs": [],
   "source": [
    "# Inspect generated graph of the s3 zarr\n",
    "saved_graph_fn = \"anemoi-s3-httpsurl-sample-zarr-graph.pt\"\n",
    "\n",
    "args = argparse.Namespace(path=saved_graph_fn,\n",
    "                          output_path=\"anemoi-s3-httpsurl-sample-zarr-graph-output-plots\",\n",
    "                          description='')\n",
    "Inspect().run(args)\n"
   ]
  },
  {
   "cell_type": "markdown",
   "id": "3e3b347d-f328-4edc-b17e-8c79371a99e2",
   "metadata": {},
   "source": [
    "# Demo III: Training Module\n",
    "\n",
    "Establish the following configuration files for training a GraphsTransformer model:\n",
    "\n",
    "1) __Hardware Configuration Files:__\n",
    "\n",
    "- /anemoi/training/config/hardware/path/example.yaml\n",
    "- /anemoi/training/config/hardware/files/example.yaml\n",
    "- /anemoi/training/config/hardware/example.yaml\n",
    "    \n",
    "2) __Data Configuration File:__    \n",
    "    \n",
    "- /anemoi/training/config/data/zarr.yaml\n",
    "    \n",
    "3) __Dataloader Configuration File:__    \n",
    "        \n",
    "- /anemoi/training/config/dataloader/native_grid.yaml\n",
    "    \n",
    "4) __Training Configuration File:__    \n",
    "    \n",
    "- /anemoi/training/config/training/default.yaml\n",
    "    \n",
    "5) __Graph Configuration Files:__    \n",
    "        \n",
    "- /anemoi/training/config/graph/multi_scale.yaml\n",
    "- /anemoi/training/config/graph/encoder_decoder_only.yaml\n",
    "    \n",
    "6) __Model Configuration File:__    \n",
    "            \n",
    "- /anemoi/training/config/model/graphtransformer.yaml\n",
    "    \n",
    "7) __Diagnostic Configuration File:__    \n",
    "        \n",
    "- /anemoi/training/config/diagnostics/eval_rollout.yaml"
   ]
  },
  {
   "cell_type": "markdown",
   "id": "271e24a1-e7ca-4bd0-b5e7-236724310e53",
   "metadata": {},
   "source": [
    "### Generate training configuration files"
   ]
  },
  {
   "cell_type": "markdown",
   "id": "bd3f5478-f882-45a5-b8fb-b14d7a3ef92a",
   "metadata": {},
   "source": [
    "### Import Training Module's Config & Train methods"
   ]
  },
  {
   "cell_type": "code",
   "execution_count": null,
   "id": "b42166be-0154-4ea4-bf80-cf6cdd3cbf8c",
   "metadata": {
    "tags": []
   },
   "outputs": [],
   "source": [
    "from anemoi.training.commands.train import *\n",
    "from anemoi.training.commands.config import *\n",
    "import os, argparse\n",
    "os.environ[\"HYDRA_FULL_ERROR\"] = \"1\" "
   ]
  },
  {
   "cell_type": "markdown",
   "id": "d79a3098-b9c1-4b5b-9db8-d358262130f4",
   "metadata": {},
   "source": [
    "### Train Model of Interest"
   ]
  },
  {
   "cell_type": "code",
   "execution_count": null,
   "id": "a82aa1c3-9c41-4650-9eef-3afad5785368",
   "metadata": {
    "tags": []
   },
   "outputs": [],
   "source": [
    "# Train model of interest\n",
    "args = argparse.Namespace(command=\"\")\n",
    "\n",
    "# Debug training module\n",
    "#args = argparse.Namespace(command=\"--config-name=debug\")\n",
    "\n",
    "Train().run(args)\n"
   ]
  },
  {
   "cell_type": "code",
   "execution_count": null,
   "id": "f6b126da-4bb6-436d-aab2-e404e7e0beb4",
   "metadata": {},
   "outputs": [],
   "source": [
    "from mpl_toolkits.mplot3d import Axes3D\n",
    "import matplotlib.pyplot as plt\n",
    "import numpy as np\n",
    "\n",
    "list_center = [(0,0,0)]\n",
    "list_radius = [1]\n",
    "\n",
    "def plt_sphere(list_center, list_radius):\n",
    "  for c, r in zip(list_center, list_radius):\n",
    "    ax = fig.add_subplot(projection='3d')\n",
    "    \n",
    "    # draw sphere\n",
    "    u, v = np.mgrid[0:2*np.pi:50j, 0:np.pi:50j]\n",
    "    x = r*np.cos(u)*np.sin(v)\n",
    "    y = r*np.sin(u)*np.sin(v)\n",
    "    z = r*np.cos(v)\n",
    "\n",
    "    ax.plot_surface(x-c[0], y-c[1], z-c[2], color=np.random.choice(['g','b']), alpha=0.5*np.random.random()+0.5)\n",
    "fig = plt.figure()\n",
    "plt_sphere(list_center, list_radius) "
   ]
  },
  {
   "cell_type": "code",
   "execution_count": null,
   "id": "6dfa7648-0b59-49bb-b9f7-3d124b70b9e5",
   "metadata": {
    "tags": []
   },
   "outputs": [],
   "source": [
    "import pickle\n",
    "\n",
    "with open('longlat_reshaped_radians.pkl', 'rb') as f:\n",
    "    longlat_reshaped_radians = pickle.load(f)\n",
    "longlat_reshaped_radians"
   ]
  },
  {
   "cell_type": "code",
   "execution_count": null,
   "id": "ab3c3ad1-0295-4edd-9cc3-6140d0959f61",
   "metadata": {
    "tags": []
   },
   "outputs": [],
   "source": [
    "len(longlat_reshaped_radians)"
   ]
  },
  {
   "cell_type": "code",
   "execution_count": null,
   "id": "fe74a0af-d630-428d-824e-1fa8073aa04a",
   "metadata": {
    "tags": []
   },
   "outputs": [],
   "source": [
    "import torch\n",
    "unique_rows, indices = torch.unique(longlat_reshaped_radians, dim=0, return_inverse=True)\n",
    "\n",
    "print(unique_rows)\n",
    "print(indices)"
   ]
  },
  {
   "cell_type": "code",
   "execution_count": null,
   "id": "b34390aa-a995-4036-8d33-9b0c01005e91",
   "metadata": {
    "tags": []
   },
   "outputs": [],
   "source": [
    "import torch\n",
    "\n",
    "def detect_duplicate_rows(tensor):\n",
    "    \"\"\"Detects duplicate rows in a 2D PyTorch tensor.\"\"\"\n",
    "\n",
    "    unique_rows, inverse_indices = torch.unique(tensor, dim=0, return_inverse=True)\n",
    "    duplicate_mask = torch.bincount(inverse_indices) > 1\n",
    "    duplicate_indices = (duplicate_mask[inverse_indices] == 1).nonzero(as_tuple=True)[0]\n",
    "\n",
    "    return duplicate_indices\n",
    "\n",
    "# Example usage:\n",
    "# tensor = torch.tensor([\n",
    "#     [1, 2],\n",
    "#     [3, 4],\n",
    "#     [1, 2],\n",
    "#     [5, 6],\n",
    "# ])\n",
    "tensor=longlat_reshaped_radians\n",
    "\n",
    "duplicate_indices = detect_duplicate_rows(tensor)\n",
    "print(\"Duplicate row indices:\", duplicate_indices)"
   ]
  },
  {
   "cell_type": "code",
   "execution_count": null,
   "id": "84912099-3911-4bdb-af19-2ae29763abe9",
   "metadata": {
    "tags": []
   },
   "outputs": [],
   "source": [
    "import pickle\n",
    "\n",
    "with open('longitudes_radians.pkl', 'rb') as f:\n",
    "    longitudes = pickle.load(f)\n",
    "    \n",
    "with open('latitudes_radians.pkl', 'rb') as f:\n",
    "    latitudes = pickle.load(f)\n"
   ]
  },
  {
   "cell_type": "code",
   "execution_count": null,
   "id": "6bcc78e0-58ab-4d0c-b973-e4f6805577ae",
   "metadata": {
    "tags": []
   },
   "outputs": [],
   "source": [
    "len(longitudes)"
   ]
  },
  {
   "cell_type": "code",
   "execution_count": null,
   "id": "77fbb1ac-daca-4827-ba92-43fb2a72345b",
   "metadata": {
    "tags": []
   },
   "outputs": [],
   "source": [
    "import pickle\n",
    "\n",
    "with open('longitudes.pkl', 'rb') as f:\n",
    "    longitudes = pickle\n",
    "    \n",
    "with open('latitudes.pkl', 'rb') as f:\n",
    "    latitudes = pickle.load(f)\n"
   ]
  },
  {
   "cell_type": "code",
   "execution_count": null,
   "id": "2a3c1d28-7d29-4b1d-830e-5d22b10a5e46",
   "metadata": {
    "tags": []
   },
   "outputs": [],
   "source": [
    "len(longitudes)"
   ]
  },
  {
   "cell_type": "code",
   "execution_count": null,
   "id": "cbe0acad-fdef-4b0e-a165-fa36ce85eb72",
   "metadata": {
    "tags": []
   },
   "outputs": [],
   "source": [
    "len(latitudes)"
   ]
  },
  {
   "cell_type": "code",
   "execution_count": null,
   "id": "3043e3de-7f0b-402e-b0ad-19f3f7b3082c",
   "metadata": {
    "tags": []
   },
   "outputs": [],
   "source": [
    "import torch\n",
    "\n",
    "unique_values = torch.unique(latitudes)\n",
    "\n",
    "print(unique_values)"
   ]
  },
  {
   "cell_type": "code",
   "execution_count": null,
   "id": "836a468d-10a2-41cd-b7fb-f4b9091d3588",
   "metadata": {
    "tags": []
   },
   "outputs": [],
   "source": [
    "len(latitudes)"
   ]
  },
  {
   "cell_type": "code",
   "execution_count": null,
   "id": "793da952-d009-4f1f-9946-84b6d18548cd",
   "metadata": {
    "tags": []
   },
   "outputs": [],
   "source": [
    "import torch\n",
    "# Find unique values and their counts\n",
    "unique_values, counts = torch.unique(latitudes, return_counts=True)\n",
    "\n",
    "# Identify duplicates\n",
    "duplicates = unique_values[counts > 0]\n",
    "\n",
    "print(duplicates) "
   ]
  },
  {
   "cell_type": "code",
   "execution_count": null,
   "id": "484587a3-74c8-40e8-a04a-5478f9a026f0",
   "metadata": {
    "tags": []
   },
   "outputs": [],
   "source": [
    "len(duplicates)"
   ]
  },
  {
   "cell_type": "code",
   "execution_count": 1,
   "id": "a5dc5a8e-25e0-491f-b24c-fe8bc45b9cb9",
   "metadata": {
    "tags": []
   },
   "outputs": [
    {
     "data": {
      "text/plain": [
       "array([[-4.3711388e-08, -0.0000000e+00, -1.0000000e+00],\n",
       "       [ 1.7452383e-02,  0.0000000e+00, -9.9984771e-01],\n",
       "       [ 3.4899492e-02,  0.0000000e+00, -9.9939084e-01],\n",
       "       ...,\n",
       "       [ 3.4894176e-02, -6.0908718e-04,  9.9939084e-01],\n",
       "       [ 1.7449725e-02, -3.0458963e-04,  9.9984771e-01],\n",
       "       [-4.3704731e-08,  7.6287776e-10,  1.0000000e+00]], dtype=float32)"
      ]
     },
     "execution_count": 1,
     "metadata": {},
     "output_type": "execute_result"
    }
   ],
   "source": [
    "import pickle\n",
    "\n",
    "with open('points.pkl', 'rb') as f:\n",
    "    data = pickle.load(f)\n",
    "data"
   ]
  },
  {
   "cell_type": "code",
   "execution_count": 12,
   "id": "660b9809-9b1f-4175-a896-8a250d5510e5",
   "metadata": {
    "tags": []
   },
   "outputs": [
    {
     "name": "stdout",
     "output_type": "stream",
     "text": [
      "[[-4.3711388e-08 -0.0000000e+00 -1.0000000e+00]\n",
      " [ 1.7452383e-02  0.0000000e+00 -9.9984771e-01]\n",
      " [ 3.4899492e-02  0.0000000e+00 -9.9939084e-01]\n",
      " ...\n",
      " [ 3.4894176e-02 -6.0908718e-04  9.9939084e-01]\n",
      " [ 1.7449725e-02 -3.0458963e-04  9.9984771e-01]\n",
      " [-4.3704731e-08  7.6287776e-10  1.0000000e+00]]\n"
     ]
    }
   ],
   "source": [
    "from scipy.spatial import cKDTree\n",
    "from scipy.spatial import SphericalVoronoi\n",
    "points=data\n",
    "threshold=1\n",
    "radius=1.00000000000001\n",
    "\n",
    "import matplotlib.pyplot as plt\n",
    "import numpy as np\n",
    "from scipy.spatial import cKDTree\n",
    "print(points)\n",
    "# plt.figure(figsize=(6, 6))\n",
    "# plt.plot(points[:, 0], points[:, 1], \".k\", markersize=1)\n",
    "# kd_tree = cKDTree(points)\n",
    "# pairs = kd_tree.query_pairs(r=threshold*radius)\n",
    "# for (i, j) in pairs:\n",
    "#     plt.plot([points[i, 0], points[j, 0]],\n",
    "#             [points[i, 1], points[j, 1]], \"*r\")\n",
    "# plt.show()"
   ]
  },
  {
   "cell_type": "code",
   "execution_count": null,
   "id": "51a48556-02de-405e-a4fb-5b9f60d08551",
   "metadata": {
    "tags": []
   },
   "outputs": [],
   "source": [
    "# Find all pairs of points in self whose distance is at most r.\n",
    "if cKDTree(points).query_pairs(r=threshold*radius):\n",
    "    print(f\"Pairs of points whose distance is <= {threshold*radius}.\")\n",
    "else:\n",
    "    print(f\"No pairs of points whose distance is <= {threshold*radius}.\")"
   ]
  },
  {
   "cell_type": "code",
   "execution_count": null,
   "id": "aaba07c6-5ab1-49a9-897e-c55e83d377fe",
   "metadata": {
    "tags": []
   },
   "outputs": [],
   "source": [
    "center=[0,0,0]\n",
    "radii = np.linalg.norm(points - center, axis=1)\n",
    "max_discrepancy = np.abs(radii - radius).max()\n",
    "max_discrepancy\n",
    "\n",
    "#if max_discrepancy >= threshold * radius:"
   ]
  },
  {
   "cell_type": "code",
   "execution_count": null,
   "id": "ffb01b3c-2304-47cc-8d3e-928690916595",
   "metadata": {
    "tags": []
   },
   "outputs": [],
   "source": [
    "threshold*radius"
   ]
  },
  {
   "cell_type": "code",
   "execution_count": null,
   "id": "89a127be-0bfe-4f53-a267-0affeecec7ae",
   "metadata": {
    "tags": []
   },
   "outputs": [],
   "source": [
    "sv = SphericalVoronoi(points, \n",
    "                      radius=threshold*radius,\n",
    "                      center=[0,0,0])"
   ]
  },
  {
   "cell_type": "code",
   "execution_count": null,
   "id": "1749371e-daa4-45e8-98a2-d528fc6ce568",
   "metadata": {
    "tags": []
   },
   "outputs": [],
   "source": [
    "type(data)"
   ]
  },
  {
   "cell_type": "code",
   "execution_count": null,
   "id": "87e35523-2a0c-4076-ad32-bd6d75c9512c",
   "metadata": {
    "tags": []
   },
   "outputs": [],
   "source": [
    "data.shape"
   ]
  },
  {
   "cell_type": "code",
   "execution_count": null,
   "id": "1833f448-6b83-43da-86d3-8fa6fb93bfc5",
   "metadata": {
    "tags": []
   },
   "outputs": [],
   "source": [
    "import numpy as np\n",
    "\n",
    "def drop_duplicate_rows(arr):\n",
    "    \"\"\"Drops duplicate rows from a 2D NumPy array while maintaining order.\"\"\"\n",
    "\n",
    "    # Convert each row to a tuple, allowing us to use set operations\n",
    "    arr_tuples = [tuple(row) for row in arr]\n",
    "\n",
    "    # Create a set to track unique rows\n",
    "    seen = set()\n",
    "    result = []\n",
    "\n",
    "    # Iterate through the rows, adding unique ones to the result\n",
    "    for row in arr_tuples:\n",
    "        if row not in seen:\n",
    "            seen.add(row)\n",
    "            result.append(row)\n",
    "\n",
    "    # Convert the result back to a NumPy array\n",
    "    return np.array(result)\n",
    "\n",
    "# Example usage\n",
    "points= drop_duplicate_rows(data)"
   ]
  },
  {
   "cell_type": "code",
   "execution_count": null,
   "id": "b45bc529-a1d9-462d-8571-dc7a763ef88c",
   "metadata": {
    "tags": []
   },
   "outputs": [],
   "source": [
    "points"
   ]
  },
  {
   "cell_type": "code",
   "execution_count": null,
   "id": "42930db6-f3f4-4960-ac23-7ca6f4661c2b",
   "metadata": {
    "tags": []
   },
   "outputs": [],
   "source": [
    "from scipy.spatial import cKDTree\n",
    "from scipy.spatial import SphericalVoronoi\n",
    "points=data\n",
    "threshold=1\n",
    "radius=0.02"
   ]
  },
  {
   "cell_type": "code",
   "execution_count": null,
   "id": "ea251c62-cebe-45d9-9b08-d6c85b5c2d9e",
   "metadata": {
    "tags": []
   },
   "outputs": [],
   "source": [
    "import matplotlib.pyplot as plt\n",
    "import numpy as np\n",
    "from scipy.spatial import cKDTree\n",
    "rng = np.random.default_rng()\n",
    "points = rng.random((10, 2))\n",
    "print(points)\n",
    "plt.figure(figsize=(6, 6))\n",
    "plt.plot(points[:, 0], points[:, 1], \"xk\", markersize=14)\n",
    "kd_tree = cKDTree(points)\n",
    "pairs = kd_tree.query_pairs(r=threshold*radius)\n",
    "for (i, j) in pairs:\n",
    "    plt.plot([points[i, 0], points[j, 0]],\n",
    "            [points[i, 1], points[j, 1]], \"-r\")\n",
    "plt.show()"
   ]
  },
  {
   "cell_type": "code",
   "execution_count": null,
   "id": "f88b1413-ffca-4e59-abf0-ce70455c25b7",
   "metadata": {
    "tags": []
   },
   "outputs": [],
   "source": [
    "# Find all pairs of points in self whose distance is at most r.\n",
    "if cKDTree(points).query_pairs(r=threshold*radius):\n",
    "    print(f\"Pairs of points whose distance is <= {threshold*radius}.\")\n",
    "else:\n",
    "    print(f\"No pairs of points whose distance is <= {threshold*radius}.\")"
   ]
  },
  {
   "cell_type": "code",
   "execution_count": null,
   "id": "b2238b05-adf3-4fea-90e2-84e1e6aa66d4",
   "metadata": {
    "tags": []
   },
   "outputs": [],
   "source": [
    "\n",
    "sv = SphericalVoronoi(points, \n",
    "                      radius=1,\n",
    "                      center=[0,0,0],\n",
    "                      threshold=1e-06)"
   ]
  },
  {
   "cell_type": "code",
   "execution_count": null,
   "id": "4f620abf-eb45-42e4-af3d-3aab9cb13a22",
   "metadata": {
    "tags": []
   },
   "outputs": [],
   "source": [
    "type(test)"
   ]
  },
  {
   "cell_type": "code",
   "execution_count": null,
   "id": "91207251-a29b-4513-93db-13e2b55578dc",
   "metadata": {
    "tags": []
   },
   "outputs": [],
   "source": [
    "test.shape"
   ]
  },
  {
   "cell_type": "code",
   "execution_count": null,
   "id": "bcc08373-2953-4727-a31d-bfa3e0eae859",
   "metadata": {
    "tags": []
   },
   "outputs": [],
   "source": [
    "import numpy as np\n",
    "\n",
    "def drop_duplicate_rows(arr):\n",
    "    \"\"\"Drops duplicate rows from a 2D NumPy array while maintaining order.\"\"\"\n",
    "\n",
    "    # Convert each row to a tuple, allowing us to use set operations\n",
    "    arr_tuples = [tuple(row) for row in arr]\n",
    "\n",
    "    # Create a set to track unique rows\n",
    "    seen = set()\n",
    "    result = []\n",
    "\n",
    "    # Iterate through the rows, adding unique ones to the result\n",
    "    for row in arr_tuples:\n",
    "        if row not in seen:\n",
    "            seen.add(row)\n",
    "            result.append(row)\n",
    "\n",
    "    # Convert the result back to a NumPy array\n",
    "    return np.array(result)\n",
    "\n",
    "# Example usage\n",
    "z= drop_duplicate_rows(test)"
   ]
  },
  {
   "cell_type": "code",
   "execution_count": null,
   "id": "241ee09a-1de8-4b6d-a8a3-7a0ae7ff9584",
   "metadata": {
    "tags": []
   },
   "outputs": [],
   "source": [
    "z.shape"
   ]
  },
  {
   "cell_type": "code",
   "execution_count": null,
   "id": "18ff9bf5-eca1-4c40-9e28-2cba89c2dee7",
   "metadata": {
    "tags": []
   },
   "outputs": [],
   "source": [
    "org=data\n",
    "import numpy as np\n",
    "     \n",
    "#displaying the original array\n",
    "print(\"Original Array : \")\n",
    "print(org,\"\\n\")\n",
    "     \n",
    "new = np.lexsort(org.T) #pssing transpose of org array to lexsort()\n",
    " \n",
    " \n",
    "new01 =  org[new,:]\n",
    "#it gets the indices value given by \"new array\" and create a new01 array\n",
    " \n",
    "x = np.concatenate(([True], np.any(np.diff(new01, axis=0), axis=1)))\n",
    "result=np.array(new01[x])\n",
    " \n",
    "#displaying the new array with updated/unique elements\n",
    "print(\"Result Array : \")\n",
    "print(result)"
   ]
  },
  {
   "cell_type": "code",
   "execution_count": null,
   "id": "cb82c145-f0ae-4a2d-b1fe-8673aad07075",
   "metadata": {
    "tags": []
   },
   "outputs": [],
   "source": [
    "result.shape"
   ]
  },
  {
   "cell_type": "markdown",
   "id": "5190d5d1-11d9-426c-90ed-457c7365d92f",
   "metadata": {},
   "source": [
    "### Generate Training Configuration files"
   ]
  },
  {
   "cell_type": "code",
   "execution_count": null,
   "id": "821bd5d2-160e-486c-a447-82598814bcf5",
   "metadata": {
    "tags": []
   },
   "outputs": [],
   "source": [
    "# Generate training configuration files\n",
    "# args = argparse.Namespace(subcommand='generate',\n",
    "#                           overwrite=False,\n",
    "#                           output='./training_configs_master')\n",
    "\n",
    "# ConfigGenerator().run(args)"
   ]
  },
  {
   "cell_type": "code",
   "execution_count": null,
   "id": "e790e68d-484e-4d6a-a5a3-001f8098d528",
   "metadata": {},
   "outputs": [],
   "source": []
  }
 ],
 "metadata": {
  "kernelspec": {
   "display_name": "ai_pipeline",
   "language": "python",
   "name": "ai_pipeline"
  },
  "language_info": {
   "codemirror_mode": {
    "name": "ipython",
    "version": 3
   },
   "file_extension": ".py",
   "mimetype": "text/x-python",
   "name": "python",
   "nbconvert_exporter": "python",
   "pygments_lexer": "ipython3",
   "version": "3.10.14"
  }
 },
 "nbformat": 4,
 "nbformat_minor": 5
}
