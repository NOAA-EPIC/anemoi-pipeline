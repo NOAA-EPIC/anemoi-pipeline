{
 "cells": [
  {
   "cell_type": "markdown",
   "id": "a28cefad-7aa3-471f-bf54-27f225286b28",
   "metadata": {},
   "source": [
    "# Demo I: Dataset Module\n",
    "\n",
    "- Time for complete conversion of 2months of data on exclusive GPU: ~1hr\n",
    "\n",
    "dates:\n",
    "  start: 2020-12-31T00:00\n",
    "  end: 2021-02-01T23:00\n",
    "  frequency: 6h\n",
    "\n",
    "input:\n",
    "  xarray-zarr:\n",
    "    url: \"gcp_era5_subset.zarr\"\n",
    "    param: [2m_temperature,\n",
    "    10m_u_component_of_wind,\n",
    "    geopotential,\n",
    "    10m_v_component_of_wind,\n",
    "    surface_pressure]\n"
   ]
  },
  {
   "cell_type": "markdown",
   "id": "78a0ef74-c45c-4e52-b03a-16f5e0dea759",
   "metadata": {},
   "source": [
    "### Import Datasets Module's Create method"
   ]
  },
  {
   "cell_type": "code",
   "execution_count": null,
   "id": "636caa86-918c-40d7-b208-0130d5af08f6",
   "metadata": {
    "tags": []
   },
   "outputs": [],
   "source": [
    "from anemoi.datasets.commands.create import *\n",
    "import os, argparse\n",
    "main_ds_config_fldrname = \"datasets_configs\""
   ]
  },
  {
   "cell_type": "markdown",
   "id": "81eb2dd4-de13-4573-994b-77fd6780183c",
   "metadata": {},
   "source": [
    "### Convert Zarr to an Anemoi-Formatted Zarr"
   ]
  },
  {
   "cell_type": "code",
   "execution_count": null,
   "id": "a16e76b4-b2a2-440a-9825-0b36ec0feb1f",
   "metadata": {
    "tags": []
   },
   "outputs": [],
   "source": [
    "# ERA5 zarr sample from GCP on local converted to anemoi-formatted zarr\n",
    "ds_config_fn = \"local-gcp-sample-zarr.yaml\"\n",
    "save2fn = \"anemoi-local-gcp-sample-zarr.zarr\"\n",
    "\n",
    "args = argparse.Namespace(config=f\"{os.getcwd()}/{main_ds_config_fldrname}/{ds_config_fn}\",\n",
    "                          path=save2fn,\n",
    "                          overwrite=True,\n",
    "                          test='',\n",
    "                          threads=int(),\n",
    "                          processes=int(),\n",
    "                          command='')\n",
    "Create().run(args)"
   ]
  },
  {
   "cell_type": "code",
   "execution_count": null,
   "id": "dcbd0335-7c6f-407b-a138-d41b859605ab",
   "metadata": {},
   "outputs": [],
   "source": [
    "# Zarr from S3 converted to anemoi-formatted zarr\n",
    "ds_config_fn = \"s3-httpsurl-sample-zarr.yaml\"\n",
    "save2fn = \"anemoi-s3-httpsurl-sample-zarr.zarr\"\n",
    "\n",
    "args = argparse.Namespace(config=f\"{os.getcwd()}/{main_ds_config_fldrname}/{ds_config_fn}\",\n",
    "                          path=save2fn,\n",
    "                          overwrite=True,\n",
    "                          test='',\n",
    "                          threads=int(),\n",
    "                          processes=int(),\n",
    "                          command='')\n",
    "Create().run(args)"
   ]
  },
  {
   "cell_type": "code",
   "execution_count": null,
   "id": "57933201-b050-4ec4-ad75-03cd258e3f54",
   "metadata": {
    "tags": []
   },
   "outputs": [],
   "source": [
    "# Zarr sample from GCP converted to anemoi-formatted zarr\n",
    "ds_config_fn = \"gcp-gsurl-sample-zarr.yaml\"\n",
    "save2fn = \"anemoi-gcp-gsurl-sample-zarr.zarr\"\n",
    "\n",
    "args = argparse.Namespace(config=f\"{os.getcwd()}/{main_ds_config_fldrname}/{ds_config_fn}\",\n",
    "                          path=save2fn,\n",
    "                          overwrite=True,\n",
    "                          test='',\n",
    "                          threads=int(),\n",
    "                          processes=int(),\n",
    "                          command='')\n",
    "Create().run(args)"
   ]
  },
  {
   "cell_type": "markdown",
   "id": "33a3b5e0-c043-4878-aba0-bf4ef02d25e8",
   "metadata": {},
   "source": [
    "# Demo II: Graph Module"
   ]
  },
  {
   "cell_type": "markdown",
   "id": "59b1fb42-4039-4ea3-b7d1-e62a8ff9be27",
   "metadata": {},
   "source": [
    "### Import Graphs Module's Create & Inspect methods"
   ]
  },
  {
   "cell_type": "code",
   "execution_count": null,
   "id": "7fda1f1f-6b92-4d92-8c5e-b8b72bcaf091",
   "metadata": {},
   "outputs": [],
   "source": [
    "from anemoi.graphs.commands.create import *\n",
    "from anemoi.graphs.commands.inspect import *\n",
    "import os, argparse\n",
    "os.environ[\"HYDRA_FULL_ERROR\"] = \"1\"\n",
    "main_graphs_config_fldrname = \"graphs_configs\"\n"
   ]
  },
  {
   "cell_type": "markdown",
   "id": "fd51ab84-508d-41c7-9f15-564d52408bc6",
   "metadata": {},
   "source": [
    "### Generate Graph of a Zarr"
   ]
  },
  {
   "cell_type": "code",
   "execution_count": null,
   "id": "50156b9e-4a81-428b-87e0-6ed4332e7438",
   "metadata": {
    "tags": []
   },
   "outputs": [],
   "source": [
    "# Generate graph of gcp zarr sample\n",
    "graphs_config_fn = \"local_gcp_encoder_processor_decoder_connect_bw_hiddens_recipe.yaml\"\n",
    "save2fn = \"anemoi-local-gcp-sample-zarr-graph.pt\"\n",
    "\n",
    "args = argparse.Namespace(config=f\"{os.getcwd()}/{main_graphs_config_fldrname}/{graphs_config_fn}\",\n",
    "                          save_path=save2fn,\n",
    "                          overwrite=False,\n",
    "                          description='')\n",
    "Create().run(args)"
   ]
  },
  {
   "cell_type": "code",
   "execution_count": null,
   "id": "7760d1c4-f35e-44eb-ab72-4b6cfd0c2c3d",
   "metadata": {
    "tags": []
   },
   "outputs": [],
   "source": [
    "# Generate graph of s3 zarr\n",
    "graphs_config_fn = \"s3_encoder_processor_decoder_connect_bw_hiddens_recipe.yaml\"\n",
    "save2fn =\"anemoi-s3-httpsurl-sample-zarr-graph.pt\"\n",
    "\n",
    "args = argparse.Namespace(config=f\"{os.getcwd()}/{main_graphs_config_fldrname}/{graphs_config_fn}\",\n",
    "                          save_path=save2fn,\n",
    "                          overwrite=False,\n",
    "                          description='')\n",
    "Create().run(args)"
   ]
  },
  {
   "cell_type": "markdown",
   "id": "f7c8dcd8-043e-4b01-bcad-9fbc0ad723c7",
   "metadata": {},
   "source": [
    "### Inspect Graph"
   ]
  },
  {
   "cell_type": "code",
   "execution_count": null,
   "id": "0c885769-97e9-4b2b-8e03-84dabe08a6a8",
   "metadata": {
    "tags": []
   },
   "outputs": [],
   "source": [
    "# Inspect generated graph of gcp zarr sample\n",
    "saved_graph_fn = \"anemoi-local-gcp-sample-zarr-graph.pt\"\n",
    "\n",
    "args = argparse.Namespace(path=saved_graph_fn,\n",
    "                          output_path=\"anemoi-local-gcp-sample-zarr-graph-output-plots\",\n",
    "                          description='')\n",
    "Inspect().run(args)\n"
   ]
  },
  {
   "cell_type": "code",
   "execution_count": null,
   "id": "e2cbb98c-5fa5-431e-a217-9ef906650ee5",
   "metadata": {
    "tags": []
   },
   "outputs": [],
   "source": [
    "# Inspect generated graph of the s3 zarr\n",
    "saved_graph_fn = \"anemoi-s3-httpsurl-sample-zarr-graph.pt\"\n",
    "\n",
    "args = argparse.Namespace(path=saved_graph_fn,\n",
    "                          output_path=\"anemoi-s3-httpsurl-sample-zarr-graph-output-plots\",\n",
    "                          description='')\n",
    "Inspect().run(args)\n"
   ]
  },
  {
   "cell_type": "markdown",
   "id": "3e3b347d-f328-4edc-b17e-8c79371a99e2",
   "metadata": {},
   "source": [
    "# Demo III: Training Module\n",
    "\n",
    "Establish the following configuration files for training a GraphsTransformer model:\n",
    "\n",
    "1) __Hardware Configuration Files:__\n",
    "\n",
    "- /anemoi/training/config/hardware/path/example.yaml\n",
    "- /anemoi/training/config/hardware/files/example.yaml\n",
    "- /anemoi/training/config/hardware/example.yaml\n",
    "    \n",
    "2) __Data Configuration File:__    \n",
    "    \n",
    "- /anemoi/training/config/data/zarr.yaml\n",
    "    \n",
    "3) __Dataloader Configuration File:__    \n",
    "        \n",
    "- /anemoi/training/config/dataloader/native_grid.yaml\n",
    "    \n",
    "4) __Training Configuration File:__    \n",
    "    \n",
    "- /anemoi/training/config/training/default.yaml\n",
    "    \n",
    "5) __Graph Configuration Files:__    \n",
    "        \n",
    "- /anemoi/training/config/graph/multi_scale.yaml\n",
    "- /anemoi/training/config/graph/encoder_decoder_only.yaml\n",
    "    \n",
    "6) __Model Configuration File:__    \n",
    "            \n",
    "- /anemoi/training/config/model/graphtransformer.yaml\n",
    "    \n",
    "7) __Diagnostic Configuration File:__    \n",
    "        \n",
    "- /anemoi/training/config/diagnostics/eval_rollout.yaml"
   ]
  },
  {
   "cell_type": "markdown",
   "id": "271e24a1-e7ca-4bd0-b5e7-236724310e53",
   "metadata": {},
   "source": [
    "### Generate training configuration files"
   ]
  },
  {
   "cell_type": "markdown",
   "id": "bd3f5478-f882-45a5-b8fb-b14d7a3ef92a",
   "metadata": {},
   "source": [
    "### Import Training Module's Config & Train methods"
   ]
  },
  {
   "cell_type": "code",
   "execution_count": null,
   "id": "b42166be-0154-4ea4-bf80-cf6cdd3cbf8c",
   "metadata": {
    "tags": []
   },
   "outputs": [],
   "source": [
    "from anemoi.training.commands.train import *\n",
    "from anemoi.training.commands.config import *\n",
    "import os, argparse\n",
    "os.environ[\"HYDRA_FULL_ERROR\"] = \"1\" "
   ]
  },
  {
   "cell_type": "markdown",
   "id": "d79a3098-b9c1-4b5b-9db8-d358262130f4",
   "metadata": {},
   "source": [
    "### Train Model of Interest"
   ]
  },
  {
   "cell_type": "code",
   "execution_count": null,
   "id": "a82aa1c3-9c41-4650-9eef-3afad5785368",
   "metadata": {
    "tags": []
   },
   "outputs": [],
   "source": [
    "# Train model of interest\n",
    "args = argparse.Namespace(command=\"\")\n",
    "\n",
    "# Debug training module\n",
    "#args = argparse.Namespace(command=\"--config-name=debug\")\n",
    "\n",
    "Train().run(args)"
   ]
  },
  {
   "cell_type": "markdown",
   "id": "5190d5d1-11d9-426c-90ed-457c7365d92f",
   "metadata": {},
   "source": [
    "### Generate Training Configuration files"
   ]
  },
  {
   "cell_type": "code",
   "execution_count": null,
   "id": "821bd5d2-160e-486c-a447-82598814bcf5",
   "metadata": {
    "tags": []
   },
   "outputs": [],
   "source": [
    "# Generate training configuration files\n",
    "# args = argparse.Namespace(subcommand='generate',\n",
    "#                           overwrite=False,\n",
    "#                           output='./training_configs_master')\n",
    "\n",
    "# ConfigGenerator().run(args)"
   ]
  },
  {
   "cell_type": "code",
   "execution_count": null,
   "id": "e790e68d-484e-4d6a-a5a3-001f8098d528",
   "metadata": {},
   "outputs": [],
   "source": []
  }
 ],
 "metadata": {
  "kernelspec": {
   "display_name": "ai_pipeline",
   "language": "python",
   "name": "ai_pipeline"
  },
  "language_info": {
   "codemirror_mode": {
    "name": "ipython",
    "version": 3
   },
   "file_extension": ".py",
   "mimetype": "text/x-python",
   "name": "python",
   "nbconvert_exporter": "python",
   "pygments_lexer": "ipython3",
   "version": "3.10.14"
  }
 },
 "nbformat": 4,
 "nbformat_minor": 5
}
