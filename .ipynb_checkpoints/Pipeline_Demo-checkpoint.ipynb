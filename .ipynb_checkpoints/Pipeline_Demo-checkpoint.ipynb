{
 "cells": [
  {
   "cell_type": "markdown",
   "id": "a28cefad-7aa3-471f-bf54-27f225286b28",
   "metadata": {},
   "source": [
    "# Demo I: Dataset Module\n",
    "\n",
    "- Time for complete conversion of 2months of data on exclusive GPU: ~1hr\n",
    "\n",
    "dates:\n",
    "  start: 2020-12-31T00:00\n",
    "  end: 2021-02-01T23:00\n",
    "  frequency: 6h\n",
    "\n",
    "input:\n",
    "  xarray-zarr:\n",
    "    url: \"gcp_era5_subset.zarr\"\n",
    "    param: [2m_temperature,\n",
    "    10m_u_component_of_wind,\n",
    "    geopotential,\n",
    "    10m_v_component_of_wind,\n",
    "    surface_pressure]\n"
   ]
  },
  {
   "cell_type": "markdown",
   "id": "78a0ef74-c45c-4e52-b03a-16f5e0dea759",
   "metadata": {},
   "source": [
    "### Import Datasets Module's Create method"
   ]
  },
  {
   "cell_type": "code",
   "execution_count": null,
   "id": "636caa86-918c-40d7-b208-0130d5af08f6",
   "metadata": {
    "tags": []
   },
   "outputs": [],
   "source": [
    "from anemoi.datasets.commands.create import *\n",
    "import os, argparse\n",
    "main_ds_config_fldrname = \"datasets_configs\""
   ]
  },
  {
   "cell_type": "markdown",
   "id": "81eb2dd4-de13-4573-994b-77fd6780183c",
   "metadata": {},
   "source": [
    "### Convert Zarr to an Anemoi-Formatted Zarr"
   ]
  },
  {
   "cell_type": "code",
   "execution_count": null,
   "id": "a16e76b4-b2a2-440a-9825-0b36ec0feb1f",
   "metadata": {
    "tags": []
   },
   "outputs": [],
   "source": [
    "# ERA5 zarr sample from GCP on local converted to anemoi-formatted zarr\n",
    "ds_config_fn = \"local-gcp-sample-zarr.yaml\"\n",
    "save2fn = \"anemoi-local-gcp-sample-zarr.zarr\"\n",
    "\n",
    "args = argparse.Namespace(config=f\"{os.getcwd()}/{main_ds_config_fldrname}/{ds_config_fn}\",\n",
    "                          path=save2fn,\n",
    "                          overwrite=True,\n",
    "                          test='',\n",
    "                          threads=int(),\n",
    "                          processes=int(),\n",
    "                          command='')\n",
    "Create().run(args)"
   ]
  },
  {
   "cell_type": "code",
   "execution_count": null,
   "id": "dcbd0335-7c6f-407b-a138-d41b859605ab",
   "metadata": {},
   "outputs": [],
   "source": [
    "# Zarr from S3 converted to anemoi-formatted zarr\n",
    "ds_config_fn = \"s3-httpsurl-sample-zarr.yaml\"\n",
    "save2fn = \"anemoi-s3-httpsurl-sample-zarr.zarr\"\n",
    "\n",
    "args = argparse.Namespace(config=f\"{os.getcwd()}/{main_ds_config_fldrname}/{ds_config_fn}\",\n",
    "                          path=save2fn,\n",
    "                          overwrite=True,\n",
    "                          test='',\n",
    "                          threads=int(),\n",
    "                          processes=int(),\n",
    "                          command='')\n",
    "Create().run(args)"
   ]
  },
  {
   "cell_type": "code",
   "execution_count": null,
   "id": "57933201-b050-4ec4-ad75-03cd258e3f54",
   "metadata": {
    "tags": []
   },
   "outputs": [],
   "source": [
    "# Zarr sample from GCP converted to anemoi-formatted zarr\n",
    "ds_config_fn = \"gcp-gsurl-sample-zarr.yaml\"\n",
    "save2fn = \"anemoi-gcp-gsurl-sample-zarr.zarr\"\n",
    "\n",
    "args = argparse.Namespace(config=f\"{os.getcwd()}/{main_ds_config_fldrname}/{ds_config_fn}\",\n",
    "                          path=save2fn,\n",
    "                          overwrite=True,\n",
    "                          test='',\n",
    "                          threads=int(),\n",
    "                          processes=int(),\n",
    "                          command='')\n",
    "Create().run(args)"
   ]
  },
  {
   "cell_type": "markdown",
   "id": "33a3b5e0-c043-4878-aba0-bf4ef02d25e8",
   "metadata": {},
   "source": [
    "# Demo II: Graph Module"
   ]
  },
  {
   "cell_type": "markdown",
   "id": "59b1fb42-4039-4ea3-b7d1-e62a8ff9be27",
   "metadata": {},
   "source": [
    "### Import Graphs Module's Create & Inspect methods"
   ]
  },
  {
   "cell_type": "code",
   "execution_count": null,
   "id": "7fda1f1f-6b92-4d92-8c5e-b8b72bcaf091",
   "metadata": {},
   "outputs": [],
   "source": [
    "from anemoi.graphs.commands.create import *\n",
    "from anemoi.graphs.commands.inspect import *\n",
    "import os, argparse\n",
    "os.environ[\"HYDRA_FULL_ERROR\"] = \"1\"\n",
    "main_graphs_config_fldrname = \"graphs_configs\"\n"
   ]
  },
  {
   "cell_type": "markdown",
   "id": "fd51ab84-508d-41c7-9f15-564d52408bc6",
   "metadata": {},
   "source": [
    "### Generate Graph of a Zarr"
   ]
  },
  {
   "cell_type": "code",
   "execution_count": null,
   "id": "50156b9e-4a81-428b-87e0-6ed4332e7438",
   "metadata": {
    "tags": []
   },
   "outputs": [],
   "source": [
    "# Generate graph of gcp zarr sample\n",
    "graphs_config_fn = \"local_gcp_encoder_processor_decoder_connect_bw_hiddens_recipe.yaml\"\n",
    "save2fn = \"anemoi-local-gcp-sample-zarr-graph.pt\"\n",
    "\n",
    "args = argparse.Namespace(config=f\"{os.getcwd()}/{main_graphs_config_fldrname}/{graphs_config_fn}\",\n",
    "                          save_path=save2fn,\n",
    "                          overwrite=False,\n",
    "                          description='')\n",
    "Create().run(args)"
   ]
  },
  {
   "cell_type": "code",
   "execution_count": null,
   "id": "7760d1c4-f35e-44eb-ab72-4b6cfd0c2c3d",
   "metadata": {
    "tags": []
   },
   "outputs": [],
   "source": [
    "# Generate graph of s3 zarr\n",
    "graphs_config_fn = \"s3_encoder_processor_decoder_connect_bw_hiddens_recipe.yaml\"\n",
    "save2fn =\"anemoi-s3-httpsurl-sample-zarr-graph.pt\"\n",
    "\n",
    "args = argparse.Namespace(config=f\"{os.getcwd()}/{main_graphs_config_fldrname}/{graphs_config_fn}\",\n",
    "                          save_path=save2fn,\n",
    "                          overwrite=False,\n",
    "                          description='')\n",
    "Create().run(args)"
   ]
  },
  {
   "cell_type": "markdown",
   "id": "f7c8dcd8-043e-4b01-bcad-9fbc0ad723c7",
   "metadata": {},
   "source": [
    "### Inspect Graph"
   ]
  },
  {
   "cell_type": "code",
   "execution_count": null,
   "id": "0c885769-97e9-4b2b-8e03-84dabe08a6a8",
   "metadata": {
    "tags": []
   },
   "outputs": [],
   "source": [
    "# Inspect generated graph of gcp zarr sample\n",
    "saved_graph_fn = \"anemoi-local-gcp-sample-zarr-graph.pt\"\n",
    "\n",
    "args = argparse.Namespace(path=saved_graph_fn,\n",
    "                          output_path=\"anemoi-local-gcp-sample-zarr-graph-output-plots\",\n",
    "                          description='')\n",
    "Inspect().run(args)\n"
   ]
  },
  {
   "cell_type": "code",
   "execution_count": null,
   "id": "e2cbb98c-5fa5-431e-a217-9ef906650ee5",
   "metadata": {
    "tags": []
   },
   "outputs": [],
   "source": [
    "# Inspect generated graph of the s3 zarr\n",
    "saved_graph_fn = \"anemoi-s3-httpsurl-sample-zarr-graph.pt\"\n",
    "\n",
    "args = argparse.Namespace(path=saved_graph_fn,\n",
    "                          output_path=\"anemoi-s3-httpsurl-sample-zarr-graph-output-plots\",\n",
    "                          description='')\n",
    "Inspect().run(args)\n"
   ]
  },
  {
   "cell_type": "markdown",
   "id": "3e3b347d-f328-4edc-b17e-8c79371a99e2",
   "metadata": {},
   "source": [
    "# Demo III: Training Module\n",
    "\n",
    "Establish the following configuration files for training a GraphsTransformer model:\n",
    "\n",
    "1) __Hardware Configuration Files:__\n",
    "\n",
    "- /anemoi/training/config/hardware/path/example.yaml\n",
    "- /anemoi/training/config/hardware/files/example.yaml\n",
    "- /anemoi/training/config/hardware/example.yaml\n",
    "    \n",
    "2) __Data Configuration File:__    \n",
    "    \n",
    "- /anemoi/training/config/data/zarr.yaml\n",
    "    \n",
    "3) __Dataloader Configuration File:__    \n",
    "        \n",
    "- /anemoi/training/config/dataloader/native_grid.yaml\n",
    "    \n",
    "4) __Training Configuration File:__    \n",
    "    \n",
    "- /anemoi/training/config/training/default.yaml\n",
    "    \n",
    "5) __Graph Configuration Files:__    \n",
    "        \n",
    "- /anemoi/training/config/graph/multi_scale.yaml\n",
    "- /anemoi/training/config/graph/encoder_decoder_only.yaml\n",
    "    \n",
    "6) __Model Configuration File:__    \n",
    "            \n",
    "- /anemoi/training/config/model/graphtransformer.yaml\n",
    "    \n",
    "7) __Diagnostic Configuration File:__    \n",
    "        \n",
    "- /anemoi/training/config/diagnostics/eval_rollout.yaml"
   ]
  },
  {
   "cell_type": "markdown",
   "id": "271e24a1-e7ca-4bd0-b5e7-236724310e53",
   "metadata": {},
   "source": [
    "### Generate training configuration files"
   ]
  },
  {
   "cell_type": "markdown",
   "id": "bd3f5478-f882-45a5-b8fb-b14d7a3ef92a",
   "metadata": {},
   "source": [
    "### Import Training Module's Config & Train methods"
   ]
  },
  {
   "cell_type": "code",
   "execution_count": 1,
   "id": "b42166be-0154-4ea4-bf80-cf6cdd3cbf8c",
   "metadata": {
    "tags": []
   },
   "outputs": [],
   "source": [
    "from anemoi.training.commands.train import *\n",
    "from anemoi.training.commands.config import *\n",
    "import os, argparse\n",
    "os.environ[\"HYDRA_FULL_ERROR\"] = \"1\" "
   ]
  },
  {
   "cell_type": "markdown",
   "id": "d79a3098-b9c1-4b5b-9db8-d358262130f4",
   "metadata": {},
   "source": [
    "### Train Model of Interest"
   ]
  },
  {
   "cell_type": "code",
   "execution_count": 2,
   "id": "a82aa1c3-9c41-4650-9eef-3afad5785368",
   "metadata": {
    "tags": []
   },
   "outputs": [
    {
     "name": "stderr",
     "output_type": "stream",
     "text": [
      "/pscratch/sd/s/schin/pipeline/anemoi-pipeline/anemoi/training/train/forecaster.py:27: DeprecationWarning: `TorchScript` support for functional optimizers is deprecated and will be removed in a future PyTorch release. Consider using the `torch.compile` optimizer instead.\n",
      "  from torch.distributed.optim import ZeroRedundancyOptimizer\n"
     ]
    },
    {
     "name": "stdout",
     "output_type": "stream",
     "text": [
      "*config keys: \n",
      " dict_keys(['data', 'dataloader', 'diagnostics', 'hardware', 'graph', 'model', 'training'])\n",
      "*config: \n",
      " {'data': {'format': 'zarr', 'resolution': 'o384', 'frequency': '6h', 'timestep': '6h', 'forcing': ['cos_latitude', 'cos_longitude', 'sin_latitude', 'sin_longitude', 'cos_julian_day', 'cos_local_time', 'sin_julian_day', 'sin_local_time', 'insolation', 'lsm', 'sdor', 'slor', 'z'], 'diagnostic': ['tp', 'cp'], 'remapped': None, 'normalizer': {'default': 'mean-std', 'min-max': None, 'max': ['sdor', 'slor', 'z'], 'none': ['cos_latitude', 'cos_longitude', 'sin_latitude', 'sin_longitude', 'cos_julian_day', 'cos_local_time', 'sin_julian_day', 'sin_local_time', 'insolation', 'lsm']}, 'imputer': {'default': 'none'}, 'remapper': {'default': 'none'}, 'processors': {'normalizer': {'_target_': 'anemoi.models.preprocessing.normalizer.InputNormalizer', '_convert_': 'all', 'config': '${data.normalizer}'}}, 'num_features': None}, 'dataloader': {'prefetch_factor': 2, 'num_workers': {'training': 8, 'validation': 8, 'test': 8, 'predict': 8}, 'batch_size': {'training': 2, 'validation': 4, 'test': 4, 'predict': 4}, 'limit_batches': {'training': None, 'validation': None, 'test': 20, 'predict': 20}, 'dataset': '${hardware.paths.data}/${hardware.files.dataset}', 'training': {'dataset': '${dataloader.dataset}', 'start': '2020-12-31 00:00:00', 'end': '2021-01-20 23:00:00', 'frequency': '${data.frequency}', 'resolution': 96, 'drop': []}, 'validation': {'dataset': '${dataloader.dataset}', 'start': '2021-01-21 00:00:00', 'end': '2021-01-24 23:00:00', 'frequency': '${data.frequency}', 'resolution': 96, 'drop': []}, 'test': {'dataset': '${dataloader.dataset}', 'start': '2021-01-25 00:00:00', 'end': '2021-02-01 23:00:00', 'frequency': '${data.frequency}', 'resolution': 96}}, 'diagnostics': {'eval': {'enabled': False, 'rollout': 12, 'frequency': 20}, 'plot': {'enabled': True, 'asynchronous': True, 'frequency': 750, 'sample_idx': 0, 'per_sample': 6, 'parameters': ['z_500', 't_850', 'u_850', 'v_850', '2t', '10u', '10v', 'sp', 'tp', 'cp'], 'accumulation_levels_plot': [0, 0.05, 0.1, 0.25, 0.5, 1, 1.5, 2, 3, 4, 5, 6, 7, 100], 'cmap_accumulation': ['#ffffff', '#04e9e7', '#019ff4', '#0300f4', '#02fd02', '#01c501', '#008e00', '#fdf802', '#e5bc00', '#fd9500', '#fd0000', '#d40000', '#bc0000', '#f800fd'], 'precip_and_related_fields': ['tp', 'cp'], 'parameters_histogram': ['z_500', 'tp', '2t', '10u', '10v'], 'parameters_spectrum': ['z_500', 'tp', '2t', '10u', '10v'], 'parameter_groups': {'moisture': ['tp', 'cp', 'tcw'], 'sfc_wind': ['10u', '10v']}, 'learned_features': False}, 'debug': {'anomaly_detection': False}, 'profiler': False, 'checkpoint': {'every_n_minutes': {'save_frequency': 30, 'num_models_saved': 3}, 'every_n_epochs': {'save_frequency': 1, 'num_models_saved': -1}, 'every_n_train_steps': {'save_frequency': None, 'num_models_saved': 0}}, 'log': {'wandb': {'enabled': False, 'offline': False, 'log_model': False, 'project': 'Anemoi', 'entity': '???', 'gradients': False, 'parameters': False}, 'tensorboard': {'enabled': False}, 'mlflow': {'enabled': False, 'offline': False, 'authentication': False, 'log_model': False, 'tracking_uri': '???', 'experiment_name': 'anemoi-debug', 'project_name': 'Anemoi', 'system': True, 'terminal': True, 'run_name': None, 'on_resume_create_child': True}, 'interval': 100}, 'enable_progress_bar': True, 'print_memory_summary': False}, 'hardware': {'paths': {'data': '/pscratch/sd/s/schin/pipeline/anemoi-pipeline', 'grids': '???', 'output': '/pscratch/sd/s/schin/pipeline/anemoi-pipeline/', 'logs': {'base': '${hardware.paths.output}logs/', 'wandb': '${hardware.paths.logs.base}', 'mlflow': '${hardware.paths.logs.base}mlflow/', 'tensorboard': '${hardware.paths.logs.base}tensorboard/'}, 'checkpoints': '${hardware.paths.output}checkpoint/', 'plots': '${hardware.paths.output}plots/', 'profiler': '${hardware.paths.output}profiler/', 'graph': '${hardware.paths.output}graphs/'}, 'files': {'dataset': 'anemoi-local-gcp-sample-zarr.zarr', 'graph': 'anemoi-local-gcp-sample-zarr-graph.pt', 'checkpoint': {'every_n_epochs': 'anemoi-by_epoch-epoch_{epoch:03d}-step_{step:06d}', 'every_n_train_steps': 'anemoi-by_step-epoch_{epoch:03d}-step_{step:06d}', 'every_n_minutes': 'anemoi-by_time-epoch_{epoch:03d}-step_{step:06d}'}, 'warm_start': None}, 'accelerator': 'auto', 'num_gpus_per_node': 1, 'num_nodes': 1, 'num_gpus_per_model': 1}, 'graph': {'overwrite': True, 'data': 'data', 'hidden': 'hidden', 'nodes': {'data': {'node_builder': {'_target_': 'anemoi.graphs.nodes.ZarrDatasetNodes', 'dataset': '${dataloader.dataset}'}, 'attributes': '${graph.attributes.nodes}'}, 'hidden': {'node_builder': {'_target_': 'anemoi.graphs.nodes.TriNodes', 'resolution': 5}, 'attributes': '${graph.attributes.nodes}'}}, 'edges': [{'source_name': '${graph.data}', 'target_name': '${graph.hidden}', 'edge_builder': {'_target_': 'anemoi.graphs.edges.CutOffEdges', 'cutoff_factor': 0.6}, 'attributes': '${graph.attributes.edges}'}, {'source_name': '${graph.hidden}', 'target_name': '${graph.hidden}', 'edge_builder': {'_target_': 'anemoi.graphs.edges.MultiScaleEdges', 'x_hops': 1}, 'attributes': '${graph.attributes.edges}'}, {'source_name': '${graph.hidden}', 'target_name': '${graph.data}', 'edge_builder': {'_target_': 'anemoi.graphs.edges.KNNEdges', 'num_nearest_neighbours': 3}, 'attributes': '${graph.attributes.edges}'}], 'attributes': {'nodes': {'area_weight': {'_target_': 'anemoi.graphs.nodes.attributes.AreaWeights', 'norm': 'unit-max'}}, 'edges': {'edge_length': {'_target_': 'anemoi.graphs.edges.attributes.EdgeLength', 'norm': 'unit-std'}, 'edge_dirs': {'_target_': 'anemoi.graphs.edges.attributes.EdgeDirection', 'norm': 'unit-std'}}}}, 'model': {'activation': 'GELU', 'num_channels': 1024, 'model': {'_target_': 'anemoi.models.models.encoder_processor_decoder.AnemoiModelEncProcDec'}, 'processor': {'_target_': 'anemoi.models.layers.processor.GraphTransformerProcessor', '_convert_': 'all', 'activation': '${model.activation}', 'trainable_size': '${model.trainable_parameters.hidden2hidden}', 'sub_graph_edge_attributes': '${model.attributes.edges}', 'num_layers': 16, 'num_chunks': 2, 'mlp_hidden_ratio': 4, 'num_heads': 16, 'dropout_p': 0.0}, 'encoder': {'_target_': 'anemoi.models.layers.mapper.GraphTransformerForwardMapper', '_convert_': 'all', 'trainable_size': '${model.trainable_parameters.data2hidden}', 'sub_graph_edge_attributes': '${model.attributes.edges}', 'activation': '${model.activation}', 'num_chunks': 1, 'mlp_hidden_ratio': 4, 'num_heads': 16}, 'decoder': {'_target_': 'anemoi.models.layers.mapper.GraphTransformerBackwardMapper', '_convert_': 'all', 'trainable_size': '${model.trainable_parameters.hidden2data}', 'sub_graph_edge_attributes': '${model.attributes.edges}', 'activation': '${model.activation}', 'num_chunks': 1, 'mlp_hidden_ratio': 4, 'num_heads': 16}, 'trainable_parameters': {'data': 8, 'hidden': 8, 'data2hidden': 8, 'hidden2data': 8, 'hidden2hidden': 8}, 'attributes': {'edges': ['edge_length', 'edge_dirs'], 'nodes': []}, 'node_loss_weight': 'area_weight'}, 'training': {'run_id': None, 'fork_run_id': None, 'load_weights_only': None, 'deterministic': False, 'precision': '16-mixed', 'multistep_input': 2, 'accum_grad_batches': 1, 'gradient_clip': {'val': 32.0, 'algorithm': 'value'}, 'swa': {'enabled': False, 'lr': 0.0001}, 'zero_optimizer': False, 'loss_gradient_scaling': False, 'rollout': {'start': 1, 'epoch_increment': 0, 'max': 1}, 'max_epochs': 200, 'lr': {'rate': 6.25e-05, 'iterations': 300000, 'min': 3e-07}, 'loss_scaling': {'default': 1, 'pl': {'q': 0.6, 't': 6, 'u': 0.8, 'v': 0.5, 'w': 0.001, 'z': 12}, 'sfc': {'sp': 10, '10u': 0.1, '10v': 0.1, '2d': 0.5, 'tp': 0.025, 'cp': 0.0025}}, 'metrics': ['z_500', 't_850', 'u_850', 'v_850'], 'pressure_level_scaler': {'_target_': 'anemoi.training.data.scaling.ReluPressureLevelScaler', 'minimum': 0.2, 'slope': 0.001}}}\n",
      "[2024-10-08 09:52:08,856][anemoi.training.train.train][INFO] - Run id: 2246f290-5b27-485f-b883-0e83f771b229\n",
      "*self.config.hardware.paths.checkpoints:  /pscratch/sd/s/schin/pipeline/anemoi-pipeline/checkpoint/\n",
      "*self._update_paths():  None\n",
      "*self.config.hardware.paths.checkpoints:  /pscratch/sd/s/schin/pipeline/anemoi-pipeline/checkpoint/2246f290-5b27-485f-b883-0e83f771b229\n",
      "** self.timeincrement: \n",
      " 1\n",
      "[2024-10-08 09:52:08,858][anemoi.training.data.datamodule][INFO] - Timeincrement set to 1 for data with frequency, 6h, and timestep, 6h\n",
      "*self.config.dataloader.training: \n",
      " {'dataset': '/pscratch/sd/s/schin/pipeline/anemoi-pipeline/anemoi-local-gcp-sample-zarr.zarr', 'start': '2020-12-31 00:00:00', 'end': '2021-01-20 23:00:00', 'frequency': '6h', 'resolution': 96, 'drop': []}\n",
      "*requested_frequency 21600\n",
      "*dataset_frequency 21600\n"
     ]
    },
    {
     "name": "stderr",
     "output_type": "stream",
     "text": [
      "Error executing job with overrides: []\n"
     ]
    },
    {
     "ename": "NotImplementedError",
     "evalue": "Unsupported arguments: resolution",
     "output_type": "error",
     "traceback": [
      "\u001b[0;31m---------------------------------------------------------------------------\u001b[0m",
      "\u001b[0;31mNotImplementedError\u001b[0m                       Traceback (most recent call last)",
      "Cell \u001b[0;32mIn[2], line 7\u001b[0m\n\u001b[1;32m      2\u001b[0m args \u001b[38;5;241m=\u001b[39m argparse\u001b[38;5;241m.\u001b[39mNamespace(command\u001b[38;5;241m=\u001b[39m\u001b[38;5;124m\"\u001b[39m\u001b[38;5;124m\"\u001b[39m)\n\u001b[1;32m      4\u001b[0m \u001b[38;5;66;03m# Debug training module\u001b[39;00m\n\u001b[1;32m      5\u001b[0m \u001b[38;5;66;03m#args = argparse.Namespace(command=\"--config-name=debug\")\u001b[39;00m\n\u001b[0;32m----> 7\u001b[0m \u001b[43mTrain\u001b[49m\u001b[43m(\u001b[49m\u001b[43m)\u001b[49m\u001b[38;5;241;43m.\u001b[39;49m\u001b[43mrun\u001b[49m\u001b[43m(\u001b[49m\u001b[43margs\u001b[49m\u001b[43m)\u001b[49m\n",
      "File \u001b[0;32m/pscratch/sd/s/schin/pipeline/anemoi-pipeline/anemoi/training/commands/train.py:47\u001b[0m, in \u001b[0;36mTrain.run\u001b[0;34m(self, args, unknown_args)\u001b[0m\n\u001b[1;32m     44\u001b[0m LOGGER\u001b[38;5;241m.\u001b[39minfo(\u001b[38;5;124m\"\u001b[39m\u001b[38;5;124mRunning anemoi training command with overrides: \u001b[39m\u001b[38;5;132;01m%s\u001b[39;00m\u001b[38;5;124m\"\u001b[39m, sys\u001b[38;5;241m.\u001b[39margv[\u001b[38;5;241m1\u001b[39m:])\n\u001b[1;32m     45\u001b[0m \u001b[38;5;28;01mfrom\u001b[39;00m \u001b[38;5;21;01manemoi\u001b[39;00m\u001b[38;5;21;01m.\u001b[39;00m\u001b[38;5;21;01mtraining\u001b[39;00m\u001b[38;5;21;01m.\u001b[39;00m\u001b[38;5;21;01mtrain\u001b[39;00m\u001b[38;5;21;01m.\u001b[39;00m\u001b[38;5;21;01mtrain\u001b[39;00m \u001b[38;5;28;01mimport\u001b[39;00m main \u001b[38;5;28;01mas\u001b[39;00m anemoi_train\n\u001b[0;32m---> 47\u001b[0m \u001b[43manemoi_train\u001b[49m\u001b[43m(\u001b[49m\u001b[43m)\u001b[49m\n",
      "File \u001b[0;32m~/miniconda3/envs/ai_pipeline/lib/python3.10/site-packages/hydra/main.py:94\u001b[0m, in \u001b[0;36mmain.<locals>.main_decorator.<locals>.decorated_main\u001b[0;34m(cfg_passthrough)\u001b[0m\n\u001b[1;32m     90\u001b[0m     _flush_loggers()\n\u001b[1;32m     91\u001b[0m \u001b[38;5;28;01melse\u001b[39;00m:\n\u001b[1;32m     92\u001b[0m     \u001b[38;5;66;03m# no return value from run_hydra() as it may sometime actually run the task_function\u001b[39;00m\n\u001b[1;32m     93\u001b[0m     \u001b[38;5;66;03m# multiple times (--multirun)\u001b[39;00m\n\u001b[0;32m---> 94\u001b[0m     \u001b[43m_run_hydra\u001b[49m\u001b[43m(\u001b[49m\n\u001b[1;32m     95\u001b[0m \u001b[43m        \u001b[49m\u001b[43margs\u001b[49m\u001b[38;5;241;43m=\u001b[39;49m\u001b[43margs\u001b[49m\u001b[43m,\u001b[49m\n\u001b[1;32m     96\u001b[0m \u001b[43m        \u001b[49m\u001b[43margs_parser\u001b[49m\u001b[38;5;241;43m=\u001b[39;49m\u001b[43margs_parser\u001b[49m\u001b[43m,\u001b[49m\n\u001b[1;32m     97\u001b[0m \u001b[43m        \u001b[49m\u001b[43mtask_function\u001b[49m\u001b[38;5;241;43m=\u001b[39;49m\u001b[43mtask_function\u001b[49m\u001b[43m,\u001b[49m\n\u001b[1;32m     98\u001b[0m \u001b[43m        \u001b[49m\u001b[43mconfig_path\u001b[49m\u001b[38;5;241;43m=\u001b[39;49m\u001b[43mconfig_path\u001b[49m\u001b[43m,\u001b[49m\n\u001b[1;32m     99\u001b[0m \u001b[43m        \u001b[49m\u001b[43mconfig_name\u001b[49m\u001b[38;5;241;43m=\u001b[39;49m\u001b[43mconfig_name\u001b[49m\u001b[43m,\u001b[49m\n\u001b[1;32m    100\u001b[0m \u001b[43m    \u001b[49m\u001b[43m)\u001b[49m\n",
      "File \u001b[0;32m~/miniconda3/envs/ai_pipeline/lib/python3.10/site-packages/hydra/_internal/utils.py:394\u001b[0m, in \u001b[0;36m_run_hydra\u001b[0;34m(args, args_parser, task_function, config_path, config_name, caller_stack_depth)\u001b[0m\n\u001b[1;32m    392\u001b[0m \u001b[38;5;28;01mif\u001b[39;00m args\u001b[38;5;241m.\u001b[39mrun \u001b[38;5;129;01mor\u001b[39;00m args\u001b[38;5;241m.\u001b[39mmultirun:\n\u001b[1;32m    393\u001b[0m     run_mode \u001b[38;5;241m=\u001b[39m hydra\u001b[38;5;241m.\u001b[39mget_mode(config_name\u001b[38;5;241m=\u001b[39mconfig_name, overrides\u001b[38;5;241m=\u001b[39moverrides)\n\u001b[0;32m--> 394\u001b[0m     \u001b[43m_run_app\u001b[49m\u001b[43m(\u001b[49m\n\u001b[1;32m    395\u001b[0m \u001b[43m        \u001b[49m\u001b[43mrun\u001b[49m\u001b[38;5;241;43m=\u001b[39;49m\u001b[43margs\u001b[49m\u001b[38;5;241;43m.\u001b[39;49m\u001b[43mrun\u001b[49m\u001b[43m,\u001b[49m\n\u001b[1;32m    396\u001b[0m \u001b[43m        \u001b[49m\u001b[43mmultirun\u001b[49m\u001b[38;5;241;43m=\u001b[39;49m\u001b[43margs\u001b[49m\u001b[38;5;241;43m.\u001b[39;49m\u001b[43mmultirun\u001b[49m\u001b[43m,\u001b[49m\n\u001b[1;32m    397\u001b[0m \u001b[43m        \u001b[49m\u001b[43mmode\u001b[49m\u001b[38;5;241;43m=\u001b[39;49m\u001b[43mrun_mode\u001b[49m\u001b[43m,\u001b[49m\n\u001b[1;32m    398\u001b[0m \u001b[43m        \u001b[49m\u001b[43mhydra\u001b[49m\u001b[38;5;241;43m=\u001b[39;49m\u001b[43mhydra\u001b[49m\u001b[43m,\u001b[49m\n\u001b[1;32m    399\u001b[0m \u001b[43m        \u001b[49m\u001b[43mconfig_name\u001b[49m\u001b[38;5;241;43m=\u001b[39;49m\u001b[43mconfig_name\u001b[49m\u001b[43m,\u001b[49m\n\u001b[1;32m    400\u001b[0m \u001b[43m        \u001b[49m\u001b[43mtask_function\u001b[49m\u001b[38;5;241;43m=\u001b[39;49m\u001b[43mtask_function\u001b[49m\u001b[43m,\u001b[49m\n\u001b[1;32m    401\u001b[0m \u001b[43m        \u001b[49m\u001b[43moverrides\u001b[49m\u001b[38;5;241;43m=\u001b[39;49m\u001b[43moverrides\u001b[49m\u001b[43m,\u001b[49m\n\u001b[1;32m    402\u001b[0m \u001b[43m    \u001b[49m\u001b[43m)\u001b[49m\n\u001b[1;32m    403\u001b[0m \u001b[38;5;28;01melif\u001b[39;00m args\u001b[38;5;241m.\u001b[39mcfg:\n\u001b[1;32m    404\u001b[0m     run_and_report(\n\u001b[1;32m    405\u001b[0m         \u001b[38;5;28;01mlambda\u001b[39;00m: hydra\u001b[38;5;241m.\u001b[39mshow_cfg(\n\u001b[1;32m    406\u001b[0m             config_name\u001b[38;5;241m=\u001b[39mconfig_name,\n\u001b[0;32m   (...)\u001b[0m\n\u001b[1;32m    411\u001b[0m         )\n\u001b[1;32m    412\u001b[0m     )\n",
      "File \u001b[0;32m~/miniconda3/envs/ai_pipeline/lib/python3.10/site-packages/hydra/_internal/utils.py:457\u001b[0m, in \u001b[0;36m_run_app\u001b[0;34m(run, multirun, mode, hydra, config_name, task_function, overrides)\u001b[0m\n\u001b[1;32m    454\u001b[0m         overrides\u001b[38;5;241m.\u001b[39mextend([\u001b[38;5;124m\"\u001b[39m\u001b[38;5;124mhydra.mode=MULTIRUN\u001b[39m\u001b[38;5;124m\"\u001b[39m])\n\u001b[1;32m    456\u001b[0m \u001b[38;5;28;01mif\u001b[39;00m mode \u001b[38;5;241m==\u001b[39m RunMode\u001b[38;5;241m.\u001b[39mRUN:\n\u001b[0;32m--> 457\u001b[0m     \u001b[43mrun_and_report\u001b[49m\u001b[43m(\u001b[49m\n\u001b[1;32m    458\u001b[0m \u001b[43m        \u001b[49m\u001b[38;5;28;43;01mlambda\u001b[39;49;00m\u001b[43m:\u001b[49m\u001b[43m \u001b[49m\u001b[43mhydra\u001b[49m\u001b[38;5;241;43m.\u001b[39;49m\u001b[43mrun\u001b[49m\u001b[43m(\u001b[49m\n\u001b[1;32m    459\u001b[0m \u001b[43m            \u001b[49m\u001b[43mconfig_name\u001b[49m\u001b[38;5;241;43m=\u001b[39;49m\u001b[43mconfig_name\u001b[49m\u001b[43m,\u001b[49m\n\u001b[1;32m    460\u001b[0m \u001b[43m            \u001b[49m\u001b[43mtask_function\u001b[49m\u001b[38;5;241;43m=\u001b[39;49m\u001b[43mtask_function\u001b[49m\u001b[43m,\u001b[49m\n\u001b[1;32m    461\u001b[0m \u001b[43m            \u001b[49m\u001b[43moverrides\u001b[49m\u001b[38;5;241;43m=\u001b[39;49m\u001b[43moverrides\u001b[49m\u001b[43m,\u001b[49m\n\u001b[1;32m    462\u001b[0m \u001b[43m        \u001b[49m\u001b[43m)\u001b[49m\n\u001b[1;32m    463\u001b[0m \u001b[43m    \u001b[49m\u001b[43m)\u001b[49m\n\u001b[1;32m    464\u001b[0m \u001b[38;5;28;01melse\u001b[39;00m:\n\u001b[1;32m    465\u001b[0m     run_and_report(\n\u001b[1;32m    466\u001b[0m         \u001b[38;5;28;01mlambda\u001b[39;00m: hydra\u001b[38;5;241m.\u001b[39mmultirun(\n\u001b[1;32m    467\u001b[0m             config_name\u001b[38;5;241m=\u001b[39mconfig_name,\n\u001b[0;32m   (...)\u001b[0m\n\u001b[1;32m    470\u001b[0m         )\n\u001b[1;32m    471\u001b[0m     )\n",
      "File \u001b[0;32m~/miniconda3/envs/ai_pipeline/lib/python3.10/site-packages/hydra/_internal/utils.py:223\u001b[0m, in \u001b[0;36mrun_and_report\u001b[0;34m(func)\u001b[0m\n\u001b[1;32m    221\u001b[0m \u001b[38;5;28;01mexcept\u001b[39;00m \u001b[38;5;167;01mException\u001b[39;00m \u001b[38;5;28;01mas\u001b[39;00m ex:\n\u001b[1;32m    222\u001b[0m     \u001b[38;5;28;01mif\u001b[39;00m _is_env_set(\u001b[38;5;124m\"\u001b[39m\u001b[38;5;124mHYDRA_FULL_ERROR\u001b[39m\u001b[38;5;124m\"\u001b[39m) \u001b[38;5;129;01mor\u001b[39;00m is_under_debugger():\n\u001b[0;32m--> 223\u001b[0m         \u001b[38;5;28;01mraise\u001b[39;00m ex\n\u001b[1;32m    224\u001b[0m     \u001b[38;5;28;01melse\u001b[39;00m:\n\u001b[1;32m    225\u001b[0m         \u001b[38;5;28;01mtry\u001b[39;00m:\n",
      "File \u001b[0;32m~/miniconda3/envs/ai_pipeline/lib/python3.10/site-packages/hydra/_internal/utils.py:220\u001b[0m, in \u001b[0;36mrun_and_report\u001b[0;34m(func)\u001b[0m\n\u001b[1;32m    218\u001b[0m \u001b[38;5;28;01mdef\u001b[39;00m \u001b[38;5;21mrun_and_report\u001b[39m(func: Any) \u001b[38;5;241m-\u001b[39m\u001b[38;5;241m>\u001b[39m Any:\n\u001b[1;32m    219\u001b[0m     \u001b[38;5;28;01mtry\u001b[39;00m:\n\u001b[0;32m--> 220\u001b[0m         \u001b[38;5;28;01mreturn\u001b[39;00m \u001b[43mfunc\u001b[49m\u001b[43m(\u001b[49m\u001b[43m)\u001b[49m\n\u001b[1;32m    221\u001b[0m     \u001b[38;5;28;01mexcept\u001b[39;00m \u001b[38;5;167;01mException\u001b[39;00m \u001b[38;5;28;01mas\u001b[39;00m ex:\n\u001b[1;32m    222\u001b[0m         \u001b[38;5;28;01mif\u001b[39;00m _is_env_set(\u001b[38;5;124m\"\u001b[39m\u001b[38;5;124mHYDRA_FULL_ERROR\u001b[39m\u001b[38;5;124m\"\u001b[39m) \u001b[38;5;129;01mor\u001b[39;00m is_under_debugger():\n",
      "File \u001b[0;32m~/miniconda3/envs/ai_pipeline/lib/python3.10/site-packages/hydra/_internal/utils.py:458\u001b[0m, in \u001b[0;36m_run_app.<locals>.<lambda>\u001b[0;34m()\u001b[0m\n\u001b[1;32m    454\u001b[0m         overrides\u001b[38;5;241m.\u001b[39mextend([\u001b[38;5;124m\"\u001b[39m\u001b[38;5;124mhydra.mode=MULTIRUN\u001b[39m\u001b[38;5;124m\"\u001b[39m])\n\u001b[1;32m    456\u001b[0m \u001b[38;5;28;01mif\u001b[39;00m mode \u001b[38;5;241m==\u001b[39m RunMode\u001b[38;5;241m.\u001b[39mRUN:\n\u001b[1;32m    457\u001b[0m     run_and_report(\n\u001b[0;32m--> 458\u001b[0m         \u001b[38;5;28;01mlambda\u001b[39;00m: \u001b[43mhydra\u001b[49m\u001b[38;5;241;43m.\u001b[39;49m\u001b[43mrun\u001b[49m\u001b[43m(\u001b[49m\n\u001b[1;32m    459\u001b[0m \u001b[43m            \u001b[49m\u001b[43mconfig_name\u001b[49m\u001b[38;5;241;43m=\u001b[39;49m\u001b[43mconfig_name\u001b[49m\u001b[43m,\u001b[49m\n\u001b[1;32m    460\u001b[0m \u001b[43m            \u001b[49m\u001b[43mtask_function\u001b[49m\u001b[38;5;241;43m=\u001b[39;49m\u001b[43mtask_function\u001b[49m\u001b[43m,\u001b[49m\n\u001b[1;32m    461\u001b[0m \u001b[43m            \u001b[49m\u001b[43moverrides\u001b[49m\u001b[38;5;241;43m=\u001b[39;49m\u001b[43moverrides\u001b[49m\u001b[43m,\u001b[49m\n\u001b[1;32m    462\u001b[0m \u001b[43m        \u001b[49m\u001b[43m)\u001b[49m\n\u001b[1;32m    463\u001b[0m     )\n\u001b[1;32m    464\u001b[0m \u001b[38;5;28;01melse\u001b[39;00m:\n\u001b[1;32m    465\u001b[0m     run_and_report(\n\u001b[1;32m    466\u001b[0m         \u001b[38;5;28;01mlambda\u001b[39;00m: hydra\u001b[38;5;241m.\u001b[39mmultirun(\n\u001b[1;32m    467\u001b[0m             config_name\u001b[38;5;241m=\u001b[39mconfig_name,\n\u001b[0;32m   (...)\u001b[0m\n\u001b[1;32m    470\u001b[0m         )\n\u001b[1;32m    471\u001b[0m     )\n",
      "File \u001b[0;32m~/miniconda3/envs/ai_pipeline/lib/python3.10/site-packages/hydra/_internal/hydra.py:132\u001b[0m, in \u001b[0;36mHydra.run\u001b[0;34m(self, config_name, task_function, overrides, with_log_configuration)\u001b[0m\n\u001b[1;32m    129\u001b[0m callbacks\u001b[38;5;241m.\u001b[39mon_run_end(config\u001b[38;5;241m=\u001b[39mcfg, config_name\u001b[38;5;241m=\u001b[39mconfig_name, job_return\u001b[38;5;241m=\u001b[39mret)\n\u001b[1;32m    131\u001b[0m \u001b[38;5;66;03m# access the result to trigger an exception in case the job failed.\u001b[39;00m\n\u001b[0;32m--> 132\u001b[0m _ \u001b[38;5;241m=\u001b[39m \u001b[43mret\u001b[49m\u001b[38;5;241;43m.\u001b[39;49m\u001b[43mreturn_value\u001b[49m\n\u001b[1;32m    134\u001b[0m \u001b[38;5;28;01mreturn\u001b[39;00m ret\n",
      "File \u001b[0;32m~/miniconda3/envs/ai_pipeline/lib/python3.10/site-packages/hydra/core/utils.py:260\u001b[0m, in \u001b[0;36mJobReturn.return_value\u001b[0;34m(self)\u001b[0m\n\u001b[1;32m    256\u001b[0m \u001b[38;5;28;01melse\u001b[39;00m:\n\u001b[1;32m    257\u001b[0m     sys\u001b[38;5;241m.\u001b[39mstderr\u001b[38;5;241m.\u001b[39mwrite(\n\u001b[1;32m    258\u001b[0m         \u001b[38;5;124mf\u001b[39m\u001b[38;5;124m\"\u001b[39m\u001b[38;5;124mError executing job with overrides: \u001b[39m\u001b[38;5;132;01m{\u001b[39;00m\u001b[38;5;28mself\u001b[39m\u001b[38;5;241m.\u001b[39moverrides\u001b[38;5;132;01m}\u001b[39;00m\u001b[38;5;124m\"\u001b[39m \u001b[38;5;241m+\u001b[39m os\u001b[38;5;241m.\u001b[39mlinesep\n\u001b[1;32m    259\u001b[0m     )\n\u001b[0;32m--> 260\u001b[0m     \u001b[38;5;28;01mraise\u001b[39;00m \u001b[38;5;28mself\u001b[39m\u001b[38;5;241m.\u001b[39m_return_value\n",
      "File \u001b[0;32m~/miniconda3/envs/ai_pipeline/lib/python3.10/site-packages/hydra/core/utils.py:186\u001b[0m, in \u001b[0;36mrun_job\u001b[0;34m(task_function, config, job_dir_key, job_subdir_key, hydra_context, configure_logging)\u001b[0m\n\u001b[1;32m    184\u001b[0m callbacks\u001b[38;5;241m.\u001b[39mon_job_start(config\u001b[38;5;241m=\u001b[39mconfig, task_function\u001b[38;5;241m=\u001b[39mtask_function)\n\u001b[1;32m    185\u001b[0m \u001b[38;5;28;01mtry\u001b[39;00m:\n\u001b[0;32m--> 186\u001b[0m     ret\u001b[38;5;241m.\u001b[39mreturn_value \u001b[38;5;241m=\u001b[39m \u001b[43mtask_function\u001b[49m\u001b[43m(\u001b[49m\u001b[43mtask_cfg\u001b[49m\u001b[43m)\u001b[49m\n\u001b[1;32m    187\u001b[0m     ret\u001b[38;5;241m.\u001b[39mstatus \u001b[38;5;241m=\u001b[39m JobStatus\u001b[38;5;241m.\u001b[39mCOMPLETED\n\u001b[1;32m    188\u001b[0m \u001b[38;5;28;01mexcept\u001b[39;00m \u001b[38;5;167;01mException\u001b[39;00m \u001b[38;5;28;01mas\u001b[39;00m e:\n",
      "File \u001b[0;32m/pscratch/sd/s/schin/pipeline/anemoi-pipeline/anemoi/training/train/train.py:385\u001b[0m, in \u001b[0;36mmain\u001b[0;34m(config)\u001b[0m\n\u001b[1;32m    383\u001b[0m \u001b[38;5;28mprint\u001b[39m(\u001b[38;5;124m\"\u001b[39m\u001b[38;5;124m*config keys: \u001b[39m\u001b[38;5;130;01m\\n\u001b[39;00m\u001b[38;5;124m\"\u001b[39m, config\u001b[38;5;241m.\u001b[39mkeys())\n\u001b[1;32m    384\u001b[0m \u001b[38;5;28mprint\u001b[39m(\u001b[38;5;124m\"\u001b[39m\u001b[38;5;124m*config: \u001b[39m\u001b[38;5;130;01m\\n\u001b[39;00m\u001b[38;5;124m\"\u001b[39m, config)\n\u001b[0;32m--> 385\u001b[0m \u001b[43mAnemoiTrainer\u001b[49m\u001b[43m(\u001b[49m\u001b[43mconfig\u001b[49m\u001b[43m)\u001b[49m\u001b[38;5;241m.\u001b[39mtrain()\n",
      "File \u001b[0;32m/pscratch/sd/s/schin/pipeline/anemoi-pipeline/anemoi/training/train/train.py:75\u001b[0m, in \u001b[0;36mAnemoiTrainer.__init__\u001b[0;34m(self, config)\u001b[0m\n\u001b[1;32m     72\u001b[0m \u001b[38;5;28mprint\u001b[39m(\u001b[38;5;124m\"\u001b[39m\u001b[38;5;124m*self._update_paths(): \u001b[39m\u001b[38;5;124m\"\u001b[39m, \u001b[38;5;28mself\u001b[39m\u001b[38;5;241m.\u001b[39m_update_paths())\n\u001b[1;32m     73\u001b[0m \u001b[38;5;28mself\u001b[39m\u001b[38;5;241m.\u001b[39m_update_paths()\n\u001b[0;32m---> 75\u001b[0m \u001b[38;5;28;43mself\u001b[39;49m\u001b[38;5;241;43m.\u001b[39;49m\u001b[43m_log_information\u001b[49m\u001b[43m(\u001b[49m\u001b[43m)\u001b[49m\n",
      "File \u001b[0;32m/pscratch/sd/s/schin/pipeline/anemoi-pipeline/anemoi/training/train/train.py:278\u001b[0m, in \u001b[0;36mAnemoiTrainer._log_information\u001b[0;34m(self)\u001b[0m\n\u001b[1;32m    276\u001b[0m \u001b[38;5;28;01mdef\u001b[39;00m \u001b[38;5;21m_log_information\u001b[39m(\u001b[38;5;28mself\u001b[39m) \u001b[38;5;241m-\u001b[39m\u001b[38;5;241m>\u001b[39m \u001b[38;5;28;01mNone\u001b[39;00m:\n\u001b[1;32m    277\u001b[0m     \u001b[38;5;66;03m# Log number of variables (features)\u001b[39;00m\n\u001b[0;32m--> 278\u001b[0m     num_fc_features \u001b[38;5;241m=\u001b[39m \u001b[38;5;28mlen\u001b[39m(\u001b[38;5;28;43mself\u001b[39;49m\u001b[38;5;241;43m.\u001b[39;49m\u001b[43mdatamodule\u001b[49m\u001b[38;5;241m.\u001b[39mds_train\u001b[38;5;241m.\u001b[39mdata\u001b[38;5;241m.\u001b[39mvariables) \u001b[38;5;241m-\u001b[39m \u001b[38;5;28mlen\u001b[39m(\u001b[38;5;28mself\u001b[39m\u001b[38;5;241m.\u001b[39mconfig\u001b[38;5;241m.\u001b[39mdata\u001b[38;5;241m.\u001b[39mforcing)\n\u001b[1;32m    279\u001b[0m     LOGGER\u001b[38;5;241m.\u001b[39mdebug(\u001b[38;5;124m\"\u001b[39m\u001b[38;5;124mTotal number of prognostic variables: \u001b[39m\u001b[38;5;132;01m%d\u001b[39;00m\u001b[38;5;124m\"\u001b[39m, num_fc_features)\n\u001b[1;32m    280\u001b[0m     LOGGER\u001b[38;5;241m.\u001b[39mdebug(\u001b[38;5;124m\"\u001b[39m\u001b[38;5;124mTotal number of auxiliary variables: \u001b[39m\u001b[38;5;132;01m%d\u001b[39;00m\u001b[38;5;124m\"\u001b[39m, \u001b[38;5;28mlen\u001b[39m(\u001b[38;5;28mself\u001b[39m\u001b[38;5;241m.\u001b[39mconfig\u001b[38;5;241m.\u001b[39mdata\u001b[38;5;241m.\u001b[39mforcing))\n",
      "File \u001b[0;32m~/miniconda3/envs/ai_pipeline/lib/python3.10/functools.py:981\u001b[0m, in \u001b[0;36mcached_property.__get__\u001b[0;34m(self, instance, owner)\u001b[0m\n\u001b[1;32m    979\u001b[0m val \u001b[38;5;241m=\u001b[39m cache\u001b[38;5;241m.\u001b[39mget(\u001b[38;5;28mself\u001b[39m\u001b[38;5;241m.\u001b[39mattrname, _NOT_FOUND)\n\u001b[1;32m    980\u001b[0m \u001b[38;5;28;01mif\u001b[39;00m val \u001b[38;5;129;01mis\u001b[39;00m _NOT_FOUND:\n\u001b[0;32m--> 981\u001b[0m     val \u001b[38;5;241m=\u001b[39m \u001b[38;5;28;43mself\u001b[39;49m\u001b[38;5;241;43m.\u001b[39;49m\u001b[43mfunc\u001b[49m\u001b[43m(\u001b[49m\u001b[43minstance\u001b[49m\u001b[43m)\u001b[49m\n\u001b[1;32m    982\u001b[0m     \u001b[38;5;28;01mtry\u001b[39;00m:\n\u001b[1;32m    983\u001b[0m         cache[\u001b[38;5;28mself\u001b[39m\u001b[38;5;241m.\u001b[39mattrname] \u001b[38;5;241m=\u001b[39m val\n",
      "File \u001b[0;32m/pscratch/sd/s/schin/pipeline/anemoi-pipeline/anemoi/training/train/train.py:81\u001b[0m, in \u001b[0;36mAnemoiTrainer.datamodule\u001b[0;34m(self)\u001b[0m\n\u001b[1;32m     79\u001b[0m \u001b[38;5;250m\u001b[39m\u001b[38;5;124;03m\"\"\"DataModule instance and DataSets.\"\"\"\u001b[39;00m\n\u001b[1;32m     80\u001b[0m datamodule \u001b[38;5;241m=\u001b[39m AnemoiDatasetsDataModule(\u001b[38;5;28mself\u001b[39m\u001b[38;5;241m.\u001b[39mconfig)\n\u001b[0;32m---> 81\u001b[0m \u001b[38;5;28mself\u001b[39m\u001b[38;5;241m.\u001b[39mconfig\u001b[38;5;241m.\u001b[39mdata\u001b[38;5;241m.\u001b[39mnum_features \u001b[38;5;241m=\u001b[39m \u001b[38;5;28mlen\u001b[39m(\u001b[43mdatamodule\u001b[49m\u001b[38;5;241;43m.\u001b[39;49m\u001b[43mds_train\u001b[49m\u001b[38;5;241m.\u001b[39mdata\u001b[38;5;241m.\u001b[39mvariables)\n\u001b[1;32m     82\u001b[0m \u001b[38;5;28;01mreturn\u001b[39;00m datamodule\n",
      "File \u001b[0;32m~/miniconda3/envs/ai_pipeline/lib/python3.10/functools.py:981\u001b[0m, in \u001b[0;36mcached_property.__get__\u001b[0;34m(self, instance, owner)\u001b[0m\n\u001b[1;32m    979\u001b[0m val \u001b[38;5;241m=\u001b[39m cache\u001b[38;5;241m.\u001b[39mget(\u001b[38;5;28mself\u001b[39m\u001b[38;5;241m.\u001b[39mattrname, _NOT_FOUND)\n\u001b[1;32m    980\u001b[0m \u001b[38;5;28;01mif\u001b[39;00m val \u001b[38;5;129;01mis\u001b[39;00m _NOT_FOUND:\n\u001b[0;32m--> 981\u001b[0m     val \u001b[38;5;241m=\u001b[39m \u001b[38;5;28;43mself\u001b[39;49m\u001b[38;5;241;43m.\u001b[39;49m\u001b[43mfunc\u001b[49m\u001b[43m(\u001b[49m\u001b[43minstance\u001b[49m\u001b[43m)\u001b[49m\n\u001b[1;32m    982\u001b[0m     \u001b[38;5;28;01mtry\u001b[39;00m:\n\u001b[1;32m    983\u001b[0m         cache[\u001b[38;5;28mself\u001b[39m\u001b[38;5;241m.\u001b[39mattrname] \u001b[38;5;241m=\u001b[39m val\n",
      "File \u001b[0;32m/pscratch/sd/s/schin/pipeline/anemoi-pipeline/anemoi/training/data/datamodule.py:121\u001b[0m, in \u001b[0;36mAnemoiDatasetsDataModule.ds_train\u001b[0;34m(self)\u001b[0m\n\u001b[1;32m    118\u001b[0m \u001b[38;5;129m@cached_property\u001b[39m\n\u001b[1;32m    119\u001b[0m \u001b[38;5;28;01mdef\u001b[39;00m \u001b[38;5;21mds_train\u001b[39m(\u001b[38;5;28mself\u001b[39m) \u001b[38;5;241m-\u001b[39m\u001b[38;5;241m>\u001b[39m NativeGridDataset:\n\u001b[1;32m    120\u001b[0m     \u001b[38;5;28mprint\u001b[39m(\u001b[38;5;124m\"\u001b[39m\u001b[38;5;124m*self.config.dataloader.training: \u001b[39m\u001b[38;5;130;01m\\n\u001b[39;00m\u001b[38;5;124m\"\u001b[39m, \u001b[38;5;28mself\u001b[39m\u001b[38;5;241m.\u001b[39mconfig\u001b[38;5;241m.\u001b[39mdataloader\u001b[38;5;241m.\u001b[39mtraining)\n\u001b[0;32m--> 121\u001b[0m     \u001b[38;5;28mprint\u001b[39m(\u001b[38;5;124m\"\u001b[39m\u001b[38;5;124m**** FUNCTION OPENING ZARR ARRAY DATA:\u001b[39m\u001b[38;5;130;01m\\n\u001b[39;00m\u001b[38;5;124m\"\u001b[39m, \u001b[43mopen_dataset\u001b[49m\u001b[43m(\u001b[49m\u001b[43mOmegaConf\u001b[49m\u001b[38;5;241;43m.\u001b[39;49m\u001b[43mto_container\u001b[49m\u001b[43m(\u001b[49m\u001b[38;5;28;43mself\u001b[39;49m\u001b[38;5;241;43m.\u001b[39;49m\u001b[43mconfig\u001b[49m\u001b[38;5;241;43m.\u001b[39;49m\u001b[43mdataloader\u001b[49m\u001b[38;5;241;43m.\u001b[39;49m\u001b[43mtraining\u001b[49m\u001b[43m,\u001b[49m\u001b[43m \u001b[49m\u001b[43mresolve\u001b[49m\u001b[38;5;241;43m=\u001b[39;49m\u001b[38;5;28;43;01mTrue\u001b[39;49;00m\u001b[43m)\u001b[49m\u001b[43m)\u001b[49m)\n\u001b[1;32m    122\u001b[0m     \u001b[38;5;28mprint\u001b[39m(\u001b[38;5;124m\"\u001b[39m\u001b[38;5;124m*** Omega Conf Output: \u001b[39m\u001b[38;5;130;01m\\n\u001b[39;00m\u001b[38;5;124m\"\u001b[39m, OmegaConf\u001b[38;5;241m.\u001b[39mto_container(\u001b[38;5;28mself\u001b[39m\u001b[38;5;241m.\u001b[39mconfig\u001b[38;5;241m.\u001b[39mdataloader\u001b[38;5;241m.\u001b[39mtraining, resolve\u001b[38;5;241m=\u001b[39m\u001b[38;5;28;01mTrue\u001b[39;00m))\n\u001b[1;32m    123\u001b[0m     \u001b[38;5;28;01mreturn\u001b[39;00m \u001b[38;5;28mself\u001b[39m\u001b[38;5;241m.\u001b[39m_get_dataset(\n\u001b[1;32m    124\u001b[0m         open_dataset(OmegaConf\u001b[38;5;241m.\u001b[39mto_container(\u001b[38;5;28mself\u001b[39m\u001b[38;5;241m.\u001b[39mconfig\u001b[38;5;241m.\u001b[39mdataloader\u001b[38;5;241m.\u001b[39mtraining, resolve\u001b[38;5;241m=\u001b[39m\u001b[38;5;28;01mTrue\u001b[39;00m)),\n\u001b[1;32m    125\u001b[0m         label\u001b[38;5;241m=\u001b[39m\u001b[38;5;124m\"\u001b[39m\u001b[38;5;124mtrain\u001b[39m\u001b[38;5;124m\"\u001b[39m,\n\u001b[1;32m    126\u001b[0m     )\n",
      "File \u001b[0;32m/pscratch/sd/s/schin/pipeline/anemoi-pipeline/anemoi/datasets/data/__init__.py:29\u001b[0m, in \u001b[0;36mopen_dataset\u001b[0;34m(*args, **kwargs)\u001b[0m\n\u001b[1;32m     28\u001b[0m \u001b[38;5;28;01mdef\u001b[39;00m \u001b[38;5;21mopen_dataset\u001b[39m(\u001b[38;5;241m*\u001b[39margs, \u001b[38;5;241m*\u001b[39m\u001b[38;5;241m*\u001b[39mkwargs):\n\u001b[0;32m---> 29\u001b[0m     ds \u001b[38;5;241m=\u001b[39m \u001b[43m_open_dataset\u001b[49m\u001b[43m(\u001b[49m\u001b[38;5;241;43m*\u001b[39;49m\u001b[43margs\u001b[49m\u001b[43m,\u001b[49m\u001b[43m \u001b[49m\u001b[38;5;241;43m*\u001b[39;49m\u001b[38;5;241;43m*\u001b[39;49m\u001b[43mkwargs\u001b[49m\u001b[43m)\u001b[49m\n\u001b[1;32m     30\u001b[0m     ds \u001b[38;5;241m=\u001b[39m ds\u001b[38;5;241m.\u001b[39mmutate()\n\u001b[1;32m     31\u001b[0m     ds\u001b[38;5;241m.\u001b[39marguments \u001b[38;5;241m=\u001b[39m {\u001b[38;5;124m\"\u001b[39m\u001b[38;5;124margs\u001b[39m\u001b[38;5;124m\"\u001b[39m: args, \u001b[38;5;124m\"\u001b[39m\u001b[38;5;124mkwargs\u001b[39m\u001b[38;5;124m\"\u001b[39m: kwargs}\n",
      "File \u001b[0;32m/pscratch/sd/s/schin/pipeline/anemoi-pipeline/anemoi/datasets/data/misc.py:267\u001b[0m, in \u001b[0;36m_open_dataset\u001b[0;34m(*args, **kwargs)\u001b[0m\n\u001b[1;32m    265\u001b[0m sets \u001b[38;5;241m=\u001b[39m []\n\u001b[1;32m    266\u001b[0m \u001b[38;5;28;01mfor\u001b[39;00m a \u001b[38;5;129;01min\u001b[39;00m args:\n\u001b[0;32m--> 267\u001b[0m     sets\u001b[38;5;241m.\u001b[39mappend(\u001b[43m_open\u001b[49m\u001b[43m(\u001b[49m\u001b[43ma\u001b[49m\u001b[43m)\u001b[49m)\n\u001b[1;32m    269\u001b[0m \u001b[38;5;28;01mif\u001b[39;00m \u001b[38;5;124m\"\u001b[39m\u001b[38;5;124mxy\u001b[39m\u001b[38;5;124m\"\u001b[39m \u001b[38;5;129;01min\u001b[39;00m kwargs:\n\u001b[1;32m    270\u001b[0m     \u001b[38;5;28;01mfrom\u001b[39;00m \u001b[38;5;21;01m.\u001b[39;00m\u001b[38;5;21;01mxy\u001b[39;00m \u001b[38;5;28;01mimport\u001b[39;00m xy_factory\n",
      "File \u001b[0;32m/pscratch/sd/s/schin/pipeline/anemoi-pipeline/anemoi/datasets/data/misc.py:186\u001b[0m, in \u001b[0;36m_open\u001b[0;34m(a)\u001b[0m\n\u001b[1;32m    183\u001b[0m     \u001b[38;5;28;01mreturn\u001b[39;00m _open(\u001b[38;5;28mstr\u001b[39m(a))\u001b[38;5;241m.\u001b[39mmutate()\n\u001b[1;32m    185\u001b[0m \u001b[38;5;28;01mif\u001b[39;00m \u001b[38;5;28misinstance\u001b[39m(a, \u001b[38;5;28mdict\u001b[39m):\n\u001b[0;32m--> 186\u001b[0m     \u001b[38;5;28;01mreturn\u001b[39;00m \u001b[43m_open_dataset\u001b[49m\u001b[43m(\u001b[49m\u001b[38;5;241;43m*\u001b[39;49m\u001b[38;5;241;43m*\u001b[39;49m\u001b[43ma\u001b[49m\u001b[43m)\u001b[49m\u001b[38;5;241m.\u001b[39mmutate()\n\u001b[1;32m    188\u001b[0m \u001b[38;5;28;01mif\u001b[39;00m \u001b[38;5;28misinstance\u001b[39m(a, (\u001b[38;5;28mlist\u001b[39m, \u001b[38;5;28mtuple\u001b[39m)):\n\u001b[1;32m    189\u001b[0m     \u001b[38;5;28;01mreturn\u001b[39;00m _open_dataset(\u001b[38;5;241m*\u001b[39ma)\u001b[38;5;241m.\u001b[39mmutate()\n",
      "File \u001b[0;32m/pscratch/sd/s/schin/pipeline/anemoi-pipeline/anemoi/datasets/data/misc.py:337\u001b[0m, in \u001b[0;36m_open_dataset\u001b[0;34m(*args, **kwargs)\u001b[0m\n\u001b[1;32m    334\u001b[0m     dataset, kwargs \u001b[38;5;241m=\u001b[39m _concat_or_join(sets, kwargs)\n\u001b[1;32m    335\u001b[0m     \u001b[38;5;28;01mreturn\u001b[39;00m dataset\u001b[38;5;241m.\u001b[39m_subset(\u001b[38;5;241m*\u001b[39m\u001b[38;5;241m*\u001b[39mkwargs)\n\u001b[0;32m--> 337\u001b[0m \u001b[38;5;28;01mreturn\u001b[39;00m \u001b[43msets\u001b[49m\u001b[43m[\u001b[49m\u001b[38;5;241;43m0\u001b[39;49m\u001b[43m]\u001b[49m\u001b[38;5;241;43m.\u001b[39;49m\u001b[43m_subset\u001b[49m\u001b[43m(\u001b[49m\u001b[38;5;241;43m*\u001b[39;49m\u001b[38;5;241;43m*\u001b[39;49m\u001b[43mkwargs\u001b[49m\u001b[43m)\u001b[49m\n",
      "File \u001b[0;32m/pscratch/sd/s/schin/pipeline/anemoi-pipeline/anemoi/datasets/data/dataset.py:51\u001b[0m, in \u001b[0;36mDataset._subset\u001b[0;34m(self, **kwargs)\u001b[0m\n\u001b[1;32m     46\u001b[0m     end \u001b[38;5;241m=\u001b[39m kwargs\u001b[38;5;241m.\u001b[39mpop(\u001b[38;5;124m\"\u001b[39m\u001b[38;5;124mend\u001b[39m\u001b[38;5;124m\"\u001b[39m, \u001b[38;5;28;01mNone\u001b[39;00m)\n\u001b[1;32m     48\u001b[0m     \u001b[38;5;28;01mfrom\u001b[39;00m \u001b[38;5;21;01m.\u001b[39;00m\u001b[38;5;21;01msubset\u001b[39;00m \u001b[38;5;28;01mimport\u001b[39;00m Subset\n\u001b[1;32m     50\u001b[0m     \u001b[38;5;28;01mreturn\u001b[39;00m (\n\u001b[0;32m---> 51\u001b[0m         \u001b[43mSubset\u001b[49m\u001b[43m(\u001b[49m\u001b[38;5;28;43mself\u001b[39;49m\u001b[43m,\u001b[49m\u001b[43m \u001b[49m\u001b[38;5;28;43mself\u001b[39;49m\u001b[38;5;241;43m.\u001b[39;49m\u001b[43m_dates_to_indices\u001b[49m\u001b[43m(\u001b[49m\u001b[43mstart\u001b[49m\u001b[43m,\u001b[49m\u001b[43m \u001b[49m\u001b[43mend\u001b[49m\u001b[43m)\u001b[49m\u001b[43m,\u001b[49m\u001b[43m \u001b[49m\u001b[38;5;28;43mdict\u001b[39;49m\u001b[43m(\u001b[49m\u001b[43mstart\u001b[49m\u001b[38;5;241;43m=\u001b[39;49m\u001b[43mstart\u001b[49m\u001b[43m,\u001b[49m\u001b[43m \u001b[49m\u001b[43mend\u001b[49m\u001b[38;5;241;43m=\u001b[39;49m\u001b[43mend\u001b[49m\u001b[43m)\u001b[49m\u001b[43m)\u001b[49m\u001b[38;5;241;43m.\u001b[39;49m\u001b[43m_subset\u001b[49m\u001b[43m(\u001b[49m\u001b[38;5;241;43m*\u001b[39;49m\u001b[38;5;241;43m*\u001b[39;49m\u001b[43mkwargs\u001b[49m\u001b[43m)\u001b[49m\u001b[38;5;241m.\u001b[39mmutate()\n\u001b[1;32m     52\u001b[0m     )\n\u001b[1;32m     54\u001b[0m \u001b[38;5;28;01mif\u001b[39;00m \u001b[38;5;124m\"\u001b[39m\u001b[38;5;124mfrequency\u001b[39m\u001b[38;5;124m\"\u001b[39m \u001b[38;5;129;01min\u001b[39;00m kwargs:\n\u001b[1;32m     55\u001b[0m     \u001b[38;5;28;01mfrom\u001b[39;00m \u001b[38;5;21;01m.\u001b[39;00m\u001b[38;5;21;01msubset\u001b[39;00m \u001b[38;5;28;01mimport\u001b[39;00m Subset\n",
      "File \u001b[0;32m/pscratch/sd/s/schin/pipeline/anemoi-pipeline/anemoi/datasets/data/dataset.py:62\u001b[0m, in \u001b[0;36mDataset._subset\u001b[0;34m(self, **kwargs)\u001b[0m\n\u001b[1;32m     58\u001b[0m         \u001b[38;5;28;01mraise\u001b[39;00m \u001b[38;5;167;01mValueError\u001b[39;00m(\u001b[38;5;124m\"\u001b[39m\u001b[38;5;124mCannot use both `frequency` and `interpolate_frequency`\u001b[39m\u001b[38;5;124m\"\u001b[39m)\n\u001b[1;32m     60\u001b[0m     frequency \u001b[38;5;241m=\u001b[39m kwargs\u001b[38;5;241m.\u001b[39mpop(\u001b[38;5;124m\"\u001b[39m\u001b[38;5;124mfrequency\u001b[39m\u001b[38;5;124m\"\u001b[39m)\n\u001b[1;32m     61\u001b[0m     \u001b[38;5;28;01mreturn\u001b[39;00m (\n\u001b[0;32m---> 62\u001b[0m         \u001b[43mSubset\u001b[49m\u001b[43m(\u001b[49m\u001b[38;5;28;43mself\u001b[39;49m\u001b[43m,\u001b[49m\u001b[43m \u001b[49m\u001b[38;5;28;43mself\u001b[39;49m\u001b[38;5;241;43m.\u001b[39;49m\u001b[43m_frequency_to_indices\u001b[49m\u001b[43m(\u001b[49m\u001b[43mfrequency\u001b[49m\u001b[43m)\u001b[49m\u001b[43m,\u001b[49m\u001b[43m \u001b[49m\u001b[38;5;28;43mdict\u001b[39;49m\u001b[43m(\u001b[49m\u001b[43mfrequency\u001b[49m\u001b[38;5;241;43m=\u001b[39;49m\u001b[43mfrequency\u001b[49m\u001b[43m)\u001b[49m\u001b[43m)\u001b[49m\n\u001b[1;32m     63\u001b[0m \u001b[43m        \u001b[49m\u001b[38;5;241;43m.\u001b[39;49m\u001b[43m_subset\u001b[49m\u001b[43m(\u001b[49m\u001b[38;5;241;43m*\u001b[39;49m\u001b[38;5;241;43m*\u001b[39;49m\u001b[43mkwargs\u001b[49m\u001b[43m)\u001b[49m\n\u001b[1;32m     64\u001b[0m         \u001b[38;5;241m.\u001b[39mmutate()\n\u001b[1;32m     65\u001b[0m     )\n\u001b[1;32m     67\u001b[0m \u001b[38;5;28;01mif\u001b[39;00m \u001b[38;5;124m\"\u001b[39m\u001b[38;5;124minterpolate_frequency\u001b[39m\u001b[38;5;124m\"\u001b[39m \u001b[38;5;129;01min\u001b[39;00m kwargs:\n\u001b[1;32m     68\u001b[0m     \u001b[38;5;28;01mfrom\u001b[39;00m \u001b[38;5;21;01m.\u001b[39;00m\u001b[38;5;21;01minterpolate\u001b[39;00m \u001b[38;5;28;01mimport\u001b[39;00m InterpolateFrequency\n",
      "File \u001b[0;32m/pscratch/sd/s/schin/pipeline/anemoi-pipeline/anemoi/datasets/data/dataset.py:83\u001b[0m, in \u001b[0;36mDataset._subset\u001b[0;34m(self, **kwargs)\u001b[0m\n\u001b[1;32m     80\u001b[0m     \u001b[38;5;28;01mfrom\u001b[39;00m \u001b[38;5;21;01m.\u001b[39;00m\u001b[38;5;21;01mselect\u001b[39;00m \u001b[38;5;28;01mimport\u001b[39;00m Select\n\u001b[1;32m     82\u001b[0m     drop \u001b[38;5;241m=\u001b[39m kwargs\u001b[38;5;241m.\u001b[39mpop(\u001b[38;5;124m\"\u001b[39m\u001b[38;5;124mdrop\u001b[39m\u001b[38;5;124m\"\u001b[39m)\n\u001b[0;32m---> 83\u001b[0m     \u001b[38;5;28;01mreturn\u001b[39;00m \u001b[43mSelect\u001b[49m\u001b[43m(\u001b[49m\u001b[38;5;28;43mself\u001b[39;49m\u001b[43m,\u001b[49m\u001b[43m \u001b[49m\u001b[38;5;28;43mself\u001b[39;49m\u001b[38;5;241;43m.\u001b[39;49m\u001b[43m_drop_to_columns\u001b[49m\u001b[43m(\u001b[49m\u001b[43mdrop\u001b[49m\u001b[43m)\u001b[49m\u001b[43m,\u001b[49m\u001b[43m \u001b[49m\u001b[43m{\u001b[49m\u001b[38;5;124;43m\"\u001b[39;49m\u001b[38;5;124;43mdrop\u001b[39;49m\u001b[38;5;124;43m\"\u001b[39;49m\u001b[43m:\u001b[49m\u001b[43m \u001b[49m\u001b[43mdrop\u001b[49m\u001b[43m}\u001b[49m\u001b[43m)\u001b[49m\u001b[38;5;241;43m.\u001b[39;49m\u001b[43m_subset\u001b[49m\u001b[43m(\u001b[49m\u001b[38;5;241;43m*\u001b[39;49m\u001b[38;5;241;43m*\u001b[39;49m\u001b[43mkwargs\u001b[49m\u001b[43m)\u001b[49m\u001b[38;5;241m.\u001b[39mmutate()\n\u001b[1;32m     85\u001b[0m \u001b[38;5;28;01mif\u001b[39;00m \u001b[38;5;124m\"\u001b[39m\u001b[38;5;124mreorder\u001b[39m\u001b[38;5;124m\"\u001b[39m \u001b[38;5;129;01min\u001b[39;00m kwargs:\n\u001b[1;32m     86\u001b[0m     \u001b[38;5;28;01mfrom\u001b[39;00m \u001b[38;5;21;01m.\u001b[39;00m\u001b[38;5;21;01mselect\u001b[39;00m \u001b[38;5;28;01mimport\u001b[39;00m Select\n",
      "File \u001b[0;32m/pscratch/sd/s/schin/pipeline/anemoi-pipeline/anemoi/datasets/data/dataset.py:151\u001b[0m, in \u001b[0;36mDataset._subset\u001b[0;34m(self, **kwargs)\u001b[0m\n\u001b[1;32m    148\u001b[0m     \u001b[38;5;28;01mif\u001b[39;00m shuffle:\n\u001b[1;32m    149\u001b[0m         \u001b[38;5;28;01mreturn\u001b[39;00m Subset(\u001b[38;5;28mself\u001b[39m, \u001b[38;5;28mself\u001b[39m\u001b[38;5;241m.\u001b[39m_shuffle_indices(), \u001b[38;5;28mdict\u001b[39m(shuffle\u001b[38;5;241m=\u001b[39m\u001b[38;5;28;01mTrue\u001b[39;00m))\u001b[38;5;241m.\u001b[39m_subset(\u001b[38;5;241m*\u001b[39m\u001b[38;5;241m*\u001b[39mkwargs)\u001b[38;5;241m.\u001b[39mmutate()\n\u001b[0;32m--> 151\u001b[0m \u001b[38;5;28;01mraise\u001b[39;00m \u001b[38;5;167;01mNotImplementedError\u001b[39;00m(\u001b[38;5;124m\"\u001b[39m\u001b[38;5;124mUnsupported arguments: \u001b[39m\u001b[38;5;124m\"\u001b[39m \u001b[38;5;241m+\u001b[39m \u001b[38;5;124m\"\u001b[39m\u001b[38;5;124m, \u001b[39m\u001b[38;5;124m\"\u001b[39m\u001b[38;5;241m.\u001b[39mjoin(kwargs))\n",
      "\u001b[0;31mNotImplementedError\u001b[0m: Unsupported arguments: resolution"
     ]
    }
   ],
   "source": [
    "# Train model of interest\n",
    "args = argparse.Namespace(command=\"\")\n",
    "\n",
    "# Debug training module\n",
    "#args = argparse.Namespace(command=\"--config-name=debug\")\n",
    "\n",
    "Train().run(args)"
   ]
  },
  {
   "cell_type": "markdown",
   "id": "5190d5d1-11d9-426c-90ed-457c7365d92f",
   "metadata": {},
   "source": [
    "### Generate Training Configuration files"
   ]
  },
  {
   "cell_type": "code",
   "execution_count": null,
   "id": "821bd5d2-160e-486c-a447-82598814bcf5",
   "metadata": {
    "tags": []
   },
   "outputs": [],
   "source": [
    "# Generate training configuration files\n",
    "# args = argparse.Namespace(subcommand='generate',\n",
    "#                           overwrite=False,\n",
    "#                           output='./training_configs_master')\n",
    "\n",
    "# ConfigGenerator().run(args)"
   ]
  },
  {
   "cell_type": "code",
   "execution_count": null,
   "id": "e790e68d-484e-4d6a-a5a3-001f8098d528",
   "metadata": {},
   "outputs": [],
   "source": []
  }
 ],
 "metadata": {
  "kernelspec": {
   "display_name": "ai_pipeline",
   "language": "python",
   "name": "ai_pipeline"
  },
  "language_info": {
   "codemirror_mode": {
    "name": "ipython",
    "version": 3
   },
   "file_extension": ".py",
   "mimetype": "text/x-python",
   "name": "python",
   "nbconvert_exporter": "python",
   "pygments_lexer": "ipython3",
   "version": "3.10.14"
  }
 },
 "nbformat": 4,
 "nbformat_minor": 5
}
